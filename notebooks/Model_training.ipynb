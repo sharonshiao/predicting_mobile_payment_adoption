{
 "cells": [
  {
   "cell_type": "markdown",
   "metadata": {},
   "source": [
    "# Model training: what features are most important for predicting usage of mobile payment?\n",
    "\n",
    "\n",
    "## Summary\n",
    "\n",
    "### Overview\n",
    "\n",
    "This analysis is the second part of the project to provide insights on characteristics of mobile payment adopters via exploratory data analysis. Mobile payment adopter is defined as using tap-and-pay at the point of sale in the last 12 months.\n",
    "\n",
    "- This question is of interest to merchants and especially small-scale businesses, who may consider whether to accept mobile payment in store. By comparing characteristics of target consumers and mobile payment adopters, businesses can evaluate the potential benefit and cost of accepting mobile payment.\n",
    "\n",
    "- Mobile payment app developers may also be interested in knowing the characteristics of likely adopters for marketing purposes and room for potential expansion.\n",
    "\n",
    "I use data from 2019 Survey of Consumer Payment Choice, a yearly survey conducted by the Federal Reserve Bank of Atlanla, for the project.\n",
    "\n",
    "### High-level findings\n",
    "\n",
    "- The best performing model is **XGBoost Classifier**, with an F1-score of 0.411, precision of 0.315 and recall of 0.590.\n",
    "\n",
    "    - The baseline logistic regression model (without regularization) with F1-score of 0.181.\n",
    "\n",
    "- The ten most important features for prediction are: whether a person is currently working, age, education, hourswork, education, hourswork, adoption of debit and credit card, household income, and (certain) census divisions.\n",
    "\n",
    "### Methodology\n",
    "\n",
    "**Data preprocessing**: one-hot encoding, standardization and spliting into train and test set (80%-20% split)\n",
    "\n",
    "- Standardization is needed for logitstic regression with regularization\n",
    "\n",
    "**Model training**: I train the following models using the *training* data:\n",
    "\n",
    "- Logistic regression (without regularization): as a baseline model\n",
    "    \n",
    "- Logistic regression with lasso and ride regularization, using cross validation to pick the penalty and class weight\n",
    "    \n",
    "- Random Forest, using cross validation to pick the depth of each tree and class weight\n",
    "    \n",
    "- XGBoost, using cross validation to pick the number of estimator, learning rate, depth of each tree, subsample rate and class weight\n",
    "    \n",
    "- \n",
    " \n",
    "**Model evaluation**: The data is imbalanced (less than 15% weighted observations are mobile adopters in the training data.) Therefore, using accuracy is not ideal because a naive model that always predict non-adoption will have high accuracy.\n",
    "\n",
    "- To address this concern, I evaluate model performance on the *test* data using **F1-score**. To understand how the models are performing better, I also compute accuracy, AOC curve and precision and recall.\n",
    "\n",
    "- I calculate *feature importances* to understand which features are the most important for prediction.\n",
    "\n",
    "### Future exploration possibilities\n",
    "\n",
    "- **Other ways of dealing with imbalaned data**: There are many other ways to deal with imbalaned data (e.g., changing the threshold probability to classify an observation as positive) and I have only explored a few. \n",
    "\n",
    "- **Further fine-tune the models**: While I try to include a number of hyperparameters in cross validation grid search, ideally one will want to use even finer grids and consider other parameters (e.g., early stopping).\n",
    "\n",
    "- **Other ways of calculating features importance**: one may also want to consider permutation feature importance and SHAP values.\n",
    "\n",
    "### Notes\n",
    "\n",
    "- For exploratory data analyis and data preparation process, please refer to the Exploratory_data_analysis notebook.\n",
    "\n",
    "- Education is currently treated as a continuous variable that is not directly corresponding to years of education. While the current encoding is positively related to the number of years spent on education (e.g., value of education of having a masters degree is greater than that of having a bachelors degree, which in turn is greater than having some college but no degree), for robustness one may want to explore alternative way of encoding education.\n",
    "\n",
    "\n",
    "\n",
    "## References\n",
    "\n",
    "- Federal Reserve Bank of Atlanta. (2020, May 19). 2019 SCPC Questionnaire. Retrieved September 26, 2021, from https://www.atlantafed.org/-/media/documents/banking/consumer-payments/survey-of-consumer-payment-choice/2019/2019_SCPC_Questionnaire.pdf. \n",
    "\n",
    "- Foster, K. (2020, April 10). Codebook and Data Guide to the 2019 Survey of Consumer Payment Choice. Retrieved September 26, 2021, from https://www.atlantafed.org/-/media/documents/banking/consumer-payments/survey-of-consumer-payment-choice/2019/scpc_2019_codebook.pdf. \n",
    "\n",
    "- Foster, K., Greene, C., &amp; Stavins, J. (2020, June 16). The 2019 Survey of Consumer Payment  Choice: Summary Results. Retrieved September 26, 2021, from https://doi.org/10.29338/rdr2020-03. "
   ]
  },
  {
   "cell_type": "markdown",
   "metadata": {
    "toc": true
   },
   "source": [
    "<h1>Table of Contents<span class=\"tocSkip\"></span></h1>\n",
    "<div class=\"toc\"><ul class=\"toc-item\"><li><span><a href=\"#Model-training:-what-features-are-most-important-for-predicting-usage-of-mobile-payment?\" data-toc-modified-id=\"Model-training:-what-features-are-most-important-for-predicting-usage-of-mobile-payment?-1\">Model training: what features are most important for predicting usage of mobile payment?</a></span><ul class=\"toc-item\"><li><span><a href=\"#Summary\" data-toc-modified-id=\"Summary-1.1\">Summary</a></span><ul class=\"toc-item\"><li><span><a href=\"#Overview\" data-toc-modified-id=\"Overview-1.1.1\">Overview</a></span></li><li><span><a href=\"#High-level-findings\" data-toc-modified-id=\"High-level-findings-1.1.2\">High-level findings</a></span></li><li><span><a href=\"#Methodology\" data-toc-modified-id=\"Methodology-1.1.3\">Methodology</a></span></li><li><span><a href=\"#Future-exploration-possibilities\" data-toc-modified-id=\"Future-exploration-possibilities-1.1.4\">Future exploration possibilities</a></span></li><li><span><a href=\"#Notes\" data-toc-modified-id=\"Notes-1.1.5\">Notes</a></span></li></ul></li><li><span><a href=\"#References\" data-toc-modified-id=\"References-1.2\">References</a></span></li></ul></li><li><span><a href=\"#Set-up-and-import-data\" data-toc-modified-id=\"Set-up-and-import-data-2\">Set-up and import data</a></span><ul class=\"toc-item\"><li><span><a href=\"#Import-packages\" data-toc-modified-id=\"Import-packages-2.1\">Import packages</a></span></li><li><span><a href=\"#Import-data\" data-toc-modified-id=\"Import-data-2.2\">Import data</a></span></li></ul></li><li><span><a href=\"#Pre-training-cleaning\" data-toc-modified-id=\"Pre-training-cleaning-3\">Pre-training cleaning</a></span><ul class=\"toc-item\"><li><span><a href=\"#Convert-dtypes-for-categorical-variables\" data-toc-modified-id=\"Convert-dtypes-for-categorical-variables-3.1\">Convert dtypes for categorical variables</a></span></li><li><span><a href=\"#Split-data-into-train-and-test-set\" data-toc-modified-id=\"Split-data-into-train-and-test-set-3.2\">Split data into train and test set</a></span></li><li><span><a href=\"#Standardize-data\" data-toc-modified-id=\"Standardize-data-3.3\">Standardize data</a></span></li></ul></li><li><span><a href=\"#Logistic-regression\" data-toc-modified-id=\"Logistic-regression-4\">Logistic regression</a></span><ul class=\"toc-item\"><li><span><a href=\"#Without-regularization\" data-toc-modified-id=\"Without-regularization-4.1\">Without regularization</a></span><ul class=\"toc-item\"><li><span><a href=\"#Model-evaluation\" data-toc-modified-id=\"Model-evaluation-4.1.1\">Model evaluation</a></span></li></ul></li><li><span><a href=\"#With-regularization\" data-toc-modified-id=\"With-regularization-4.2\">With regularization</a></span><ul class=\"toc-item\"><li><span><a href=\"#Lasso\" data-toc-modified-id=\"Lasso-4.2.1\">Lasso</a></span></li><li><span><a href=\"#Ridge\" data-toc-modified-id=\"Ridge-4.2.2\">Ridge</a></span></li><li><span><a href=\"#Comparison-of-performance\" data-toc-modified-id=\"Comparison-of-performance-4.2.3\">Comparison of performance</a></span><ul class=\"toc-item\"><li><span><a href=\"#Lasso\" data-toc-modified-id=\"Lasso-4.2.3.1\">Lasso</a></span></li><li><span><a href=\"#Ridge\" data-toc-modified-id=\"Ridge-4.2.3.2\">Ridge</a></span></li></ul></li></ul></li></ul></li><li><span><a href=\"#Random-Forest\" data-toc-modified-id=\"Random-Forest-5\">Random Forest</a></span><ul class=\"toc-item\"><li><span><a href=\"#Performance-evaluation\" data-toc-modified-id=\"Performance-evaluation-5.1\">Performance evaluation</a></span></li></ul></li><li><span><a href=\"#XGBoost\" data-toc-modified-id=\"XGBoost-6\">XGBoost</a></span><ul class=\"toc-item\"><li><span><a href=\"#Evaluation-of-performance\" data-toc-modified-id=\"Evaluation-of-performance-6.1\">Evaluation of performance</a></span></li></ul></li><li><span><a href=\"#Comparison-and-Summary\" data-toc-modified-id=\"Comparison-and-Summary-7\">Comparison and Summary</a></span></li></ul></div>"
   ]
  },
  {
   "cell_type": "markdown",
   "metadata": {},
   "source": [
    "# Set-up and import data"
   ]
  },
  {
   "cell_type": "markdown",
   "metadata": {},
   "source": [
    "## Import packages"
   ]
  },
  {
   "cell_type": "code",
   "execution_count": 1,
   "metadata": {
    "scrolled": false
   },
   "outputs": [],
   "source": [
    "import pandas as pd\n",
    "import matplotlib \n",
    "import numpy as np\n",
    "import matplotlib.pyplot as plt\n",
    "import seaborn as sns\n",
    "from matplotlib.patches import Rectangle # for matching colors\n",
    "import patsy\n",
    "from pandas.api.types import is_numeric_dtype\n",
    "\n",
    "#statisc images of plot embedded in the notebook\n",
    "%matplotlib inline \n",
    "\n",
    "# set plotting style used\n",
    "plt.style.use('seaborn-whitegrid')\n",
    "\n",
    "# Set the color paletter\n",
    "sns.set_palette('Set2')"
   ]
  },
  {
   "cell_type": "code",
   "execution_count": 2,
   "metadata": {
    "scrolled": false
   },
   "outputs": [],
   "source": [
    "# ML related\n",
    "from statsmodels.stats.weightstats import DescrStatsW\n",
    "import statsmodels.api as sm\n",
    "import statsmodels.formula.api as smf\n",
    "from patsy import dmatrices\n",
    "\n",
    "from sklearn.model_selection import train_test_split, GridSearchCV, StratifiedKFold\n",
    "from sklearn.linear_model import LogisticRegression\n",
    "from sklearn.metrics import accuracy_score, confusion_matrix, f1_score, roc_auc_score, roc_curve, precision_recall_curve, make_scorer, recall_score, precision_score\n",
    "from sklearn.preprocessing import StandardScaler\n",
    "from sklearn.ensemble import RandomForestClassifier\n",
    "\n",
    "from xgboost import XGBClassifier"
   ]
  },
  {
   "cell_type": "code",
   "execution_count": 3,
   "metadata": {
    "scrolled": false
   },
   "outputs": [],
   "source": [
    "# Display multiple output\n",
    "from IPython.core.interactiveshell import InteractiveShell\n",
    "InteractiveShell.ast_node_interactivity = \"all\""
   ]
  },
  {
   "cell_type": "code",
   "execution_count": 4,
   "metadata": {
    "scrolled": false
   },
   "outputs": [],
   "source": [
    "# Pandas display setting\n",
    "# Adopted from https://songhuiming.github.io/pages/2017/04/02/jupyter-and-pandas-display/\n",
    "pd.set_option('display.max_rows', 500)\n",
    "pd.set_option('display.max_columns', 500)"
   ]
  },
  {
   "cell_type": "markdown",
   "metadata": {},
   "source": [
    "## Import data"
   ]
  },
  {
   "cell_type": "code",
   "execution_count": 5,
   "metadata": {
    "scrolled": false
   },
   "outputs": [],
   "source": [
    "PATH_INPUT_DATA = '/Users/sharonshiao/Dropbox/Data Science/projects/payment/data/processed/data_preprocessed_final.csv'\n",
    "df = pd.read_csv(PATH_INPUT_DATA)"
   ]
  },
  {
   "cell_type": "code",
   "execution_count": 6,
   "metadata": {
    "scrolled": false
   },
   "outputs": [
    {
     "name": "stdout",
     "output_type": "stream",
     "text": [
      "<class 'pandas.core.frame.DataFrame'>\n",
      "RangeIndex: 3064 entries, 0 to 3063\n",
      "Data columns (total 18 columns):\n",
      " #   Column                         Non-Null Count  Dtype  \n",
      "---  ------                         --------------  -----  \n",
      " 0   age                            3064 non-null   int64  \n",
      " 1   census_division                3064 non-null   float64\n",
      " 2   currentlivingsituation         3064 non-null   float64\n",
      " 3   own_prim_home                  3064 non-null   float64\n",
      " 4   education                      3064 non-null   int64  \n",
      " 5   employmenttype                 3064 non-null   float64\n",
      " 6   male                           3064 non-null   int64  \n",
      " 7   hourswork                      3064 non-null   float64\n",
      " 8   laborstatus                    3064 non-null   float64\n",
      " 9   race                           3064 non-null   float64\n",
      " 10  r_weight                       3064 non-null   float64\n",
      " 11  cc_adopt                       3064 non-null   float64\n",
      " 12  dc_adopt                       3064 non-null   float64\n",
      " 13  mpay_tap_and_pay_1year         3064 non-null   float64\n",
      " 14  log_hhincome                   3064 non-null   float64\n",
      " 15  log_fico_score                 3064 non-null   float64\n",
      " 16  log_prim_home_mkt_value        3064 non-null   float64\n",
      " 17  log_assets_non_home_mkt_value  3064 non-null   float64\n",
      "dtypes: float64(15), int64(3)\n",
      "memory usage: 431.0 KB\n"
     ]
    }
   ],
   "source": [
    "df.info()"
   ]
  },
  {
   "cell_type": "code",
   "execution_count": 7,
   "metadata": {
    "scrolled": false
   },
   "outputs": [
    {
     "data": {
      "text/html": [
       "<div>\n",
       "<style scoped>\n",
       "    .dataframe tbody tr th:only-of-type {\n",
       "        vertical-align: middle;\n",
       "    }\n",
       "\n",
       "    .dataframe tbody tr th {\n",
       "        vertical-align: top;\n",
       "    }\n",
       "\n",
       "    .dataframe thead th {\n",
       "        text-align: right;\n",
       "    }\n",
       "</style>\n",
       "<table border=\"1\" class=\"dataframe\">\n",
       "  <thead>\n",
       "    <tr style=\"text-align: right;\">\n",
       "      <th></th>\n",
       "      <th>age</th>\n",
       "      <th>census_division</th>\n",
       "      <th>currentlivingsituation</th>\n",
       "      <th>own_prim_home</th>\n",
       "      <th>education</th>\n",
       "      <th>employmenttype</th>\n",
       "      <th>male</th>\n",
       "      <th>hourswork</th>\n",
       "      <th>laborstatus</th>\n",
       "      <th>race</th>\n",
       "      <th>r_weight</th>\n",
       "      <th>cc_adopt</th>\n",
       "      <th>dc_adopt</th>\n",
       "      <th>mpay_tap_and_pay_1year</th>\n",
       "      <th>log_hhincome</th>\n",
       "      <th>log_fico_score</th>\n",
       "      <th>log_prim_home_mkt_value</th>\n",
       "      <th>log_assets_non_home_mkt_value</th>\n",
       "    </tr>\n",
       "  </thead>\n",
       "  <tbody>\n",
       "    <tr>\n",
       "      <th>0</th>\n",
       "      <td>36</td>\n",
       "      <td>1.0</td>\n",
       "      <td>1.0</td>\n",
       "      <td>1.0</td>\n",
       "      <td>14</td>\n",
       "      <td>2.0</td>\n",
       "      <td>1</td>\n",
       "      <td>40.0</td>\n",
       "      <td>1.0</td>\n",
       "      <td>1.0</td>\n",
       "      <td>0.812124</td>\n",
       "      <td>1.0</td>\n",
       "      <td>1.0</td>\n",
       "      <td>0.0</td>\n",
       "      <td>11.736069</td>\n",
       "      <td>6.652863</td>\n",
       "      <td>12.706851</td>\n",
       "      <td>11.512935</td>\n",
       "    </tr>\n",
       "    <tr>\n",
       "      <th>1</th>\n",
       "      <td>44</td>\n",
       "      <td>1.0</td>\n",
       "      <td>1.0</td>\n",
       "      <td>1.0</td>\n",
       "      <td>11</td>\n",
       "      <td>3.0</td>\n",
       "      <td>1</td>\n",
       "      <td>40.0</td>\n",
       "      <td>1.0</td>\n",
       "      <td>1.0</td>\n",
       "      <td>0.501038</td>\n",
       "      <td>1.0</td>\n",
       "      <td>1.0</td>\n",
       "      <td>0.0</td>\n",
       "      <td>11.736069</td>\n",
       "      <td>6.652863</td>\n",
       "      <td>12.611541</td>\n",
       "      <td>12.765691</td>\n",
       "    </tr>\n",
       "    <tr>\n",
       "      <th>2</th>\n",
       "      <td>29</td>\n",
       "      <td>1.0</td>\n",
       "      <td>1.0</td>\n",
       "      <td>0.0</td>\n",
       "      <td>9</td>\n",
       "      <td>2.0</td>\n",
       "      <td>1</td>\n",
       "      <td>50.0</td>\n",
       "      <td>1.0</td>\n",
       "      <td>1.0</td>\n",
       "      <td>4.001276</td>\n",
       "      <td>1.0</td>\n",
       "      <td>1.0</td>\n",
       "      <td>0.0</td>\n",
       "      <td>10.915088</td>\n",
       "      <td>6.437752</td>\n",
       "      <td>0.000000</td>\n",
       "      <td>8.517393</td>\n",
       "    </tr>\n",
       "    <tr>\n",
       "      <th>3</th>\n",
       "      <td>70</td>\n",
       "      <td>1.0</td>\n",
       "      <td>1.0</td>\n",
       "      <td>1.0</td>\n",
       "      <td>10</td>\n",
       "      <td>5.0</td>\n",
       "      <td>1</td>\n",
       "      <td>0.0</td>\n",
       "      <td>5.0</td>\n",
       "      <td>1.0</td>\n",
       "      <td>0.578859</td>\n",
       "      <td>1.0</td>\n",
       "      <td>1.0</td>\n",
       "      <td>0.0</td>\n",
       "      <td>11.119883</td>\n",
       "      <td>6.586172</td>\n",
       "      <td>12.301387</td>\n",
       "      <td>0.000000</td>\n",
       "    </tr>\n",
       "    <tr>\n",
       "      <th>4</th>\n",
       "      <td>58</td>\n",
       "      <td>1.0</td>\n",
       "      <td>5.0</td>\n",
       "      <td>1.0</td>\n",
       "      <td>13</td>\n",
       "      <td>2.0</td>\n",
       "      <td>0</td>\n",
       "      <td>40.0</td>\n",
       "      <td>1.0</td>\n",
       "      <td>1.0</td>\n",
       "      <td>0.712038</td>\n",
       "      <td>1.0</td>\n",
       "      <td>1.0</td>\n",
       "      <td>0.0</td>\n",
       "      <td>10.915088</td>\n",
       "      <td>6.652863</td>\n",
       "      <td>12.117247</td>\n",
       "      <td>8.517393</td>\n",
       "    </tr>\n",
       "  </tbody>\n",
       "</table>\n",
       "</div>"
      ],
      "text/plain": [
       "   age  census_division  currentlivingsituation  own_prim_home  education  \\\n",
       "0   36              1.0                     1.0            1.0         14   \n",
       "1   44              1.0                     1.0            1.0         11   \n",
       "2   29              1.0                     1.0            0.0          9   \n",
       "3   70              1.0                     1.0            1.0         10   \n",
       "4   58              1.0                     5.0            1.0         13   \n",
       "\n",
       "   employmenttype  male  hourswork  laborstatus  race  r_weight  cc_adopt  \\\n",
       "0             2.0     1       40.0          1.0   1.0  0.812124       1.0   \n",
       "1             3.0     1       40.0          1.0   1.0  0.501038       1.0   \n",
       "2             2.0     1       50.0          1.0   1.0  4.001276       1.0   \n",
       "3             5.0     1        0.0          5.0   1.0  0.578859       1.0   \n",
       "4             2.0     0       40.0          1.0   1.0  0.712038       1.0   \n",
       "\n",
       "   dc_adopt  mpay_tap_and_pay_1year  log_hhincome  log_fico_score  \\\n",
       "0       1.0                     0.0     11.736069        6.652863   \n",
       "1       1.0                     0.0     11.736069        6.652863   \n",
       "2       1.0                     0.0     10.915088        6.437752   \n",
       "3       1.0                     0.0     11.119883        6.586172   \n",
       "4       1.0                     0.0     10.915088        6.652863   \n",
       "\n",
       "   log_prim_home_mkt_value  log_assets_non_home_mkt_value  \n",
       "0                12.706851                      11.512935  \n",
       "1                12.611541                      12.765691  \n",
       "2                 0.000000                       8.517393  \n",
       "3                12.301387                       0.000000  \n",
       "4                12.117247                       8.517393  "
      ]
     },
     "execution_count": 7,
     "metadata": {},
     "output_type": "execute_result"
    }
   ],
   "source": [
    "df.head()"
   ]
  },
  {
   "cell_type": "markdown",
   "metadata": {},
   "source": [
    "# Pre-training cleaning\n",
    "\n",
    "- One-hot encoding\n",
    "\n",
    "- Split data into train and test set (matrix form)\n",
    "\n",
    "- Standardize data"
   ]
  },
  {
   "cell_type": "markdown",
   "metadata": {},
   "source": [
    "## Convert dtypes for categorical variables"
   ]
  },
  {
   "cell_type": "code",
   "execution_count": 8,
   "metadata": {
    "scrolled": false
   },
   "outputs": [],
   "source": [
    "# Turn variables into strings (categorical variables)\n",
    "vars_cat = [\n",
    "    'census_division',\n",
    "    'currentlivingsituation',\n",
    "    'employmenttype',\n",
    "    'laborstatus',\n",
    "    'race'\n",
    "]\n",
    "\n",
    "df1 = df.astype({x: 'str' for x in vars_cat})"
   ]
  },
  {
   "cell_type": "code",
   "execution_count": 9,
   "metadata": {},
   "outputs": [
    {
     "name": "stdout",
     "output_type": "stream",
     "text": [
      "<class 'pandas.core.frame.DataFrame'>\n",
      "RangeIndex: 3064 entries, 0 to 3063\n",
      "Data columns (total 18 columns):\n",
      " #   Column                         Non-Null Count  Dtype  \n",
      "---  ------                         --------------  -----  \n",
      " 0   age                            3064 non-null   int64  \n",
      " 1   census_division                3064 non-null   object \n",
      " 2   currentlivingsituation         3064 non-null   object \n",
      " 3   own_prim_home                  3064 non-null   float64\n",
      " 4   education                      3064 non-null   int64  \n",
      " 5   employmenttype                 3064 non-null   object \n",
      " 6   male                           3064 non-null   int64  \n",
      " 7   hourswork                      3064 non-null   float64\n",
      " 8   laborstatus                    3064 non-null   object \n",
      " 9   race                           3064 non-null   object \n",
      " 10  r_weight                       3064 non-null   float64\n",
      " 11  cc_adopt                       3064 non-null   float64\n",
      " 12  dc_adopt                       3064 non-null   float64\n",
      " 13  mpay_tap_and_pay_1year         3064 non-null   float64\n",
      " 14  log_hhincome                   3064 non-null   float64\n",
      " 15  log_fico_score                 3064 non-null   float64\n",
      " 16  log_prim_home_mkt_value        3064 non-null   float64\n",
      " 17  log_assets_non_home_mkt_value  3064 non-null   float64\n",
      "dtypes: float64(10), int64(3), object(5)\n",
      "memory usage: 431.0+ KB\n"
     ]
    }
   ],
   "source": [
    "# Make sure dtypes are correct\n",
    "df1.info()"
   ]
  },
  {
   "cell_type": "markdown",
   "metadata": {},
   "source": [
    "## Split data into train and test set"
   ]
  },
  {
   "cell_type": "code",
   "execution_count": 10,
   "metadata": {
    "scrolled": false
   },
   "outputs": [],
   "source": [
    "# Split data into train and test set and create the predictor matrix\n",
    "### Inputs\n",
    "# df: data frame\n",
    "# outcome: name of the outcome variable\n",
    "# dict_cat: a dictionary with names of categorical variables as the key and values of the default group as the values\n",
    "# list_predictors (optional): list of predictors; if not provided, use all non-outcome columns from df\n",
    "### Output:\n",
    "# X: predictor matrix (N*p, N=#obs, p=#predictors), WITHOUT intercept\n",
    "# cols_X: names of the predictors\n",
    "def create_X_mat(df, outcome, dict_cat={}, list_predictors=[]):\n",
    "\n",
    "    # Create list of non-categorical predictors if the list is not provided\n",
    "    if not list_predictors:\n",
    "        list_predictors = [\n",
    "            col for col in df.columns\n",
    "            if col not in [outcome, 'Intercept'] + list(dict_cat.keys())\n",
    "        ]\n",
    "\n",
    "    # Avoid accidentally including intercept in the list of predictors specified; otherwise patsy will throw an error\n",
    "    if 'Intercept' in list_predictors:\n",
    "        list_predictors.remove('Intercept')\n",
    "\n",
    "    formula_patsy = outcome + ' ~ ' + '+'.join(list_predictors)\n",
    "\n",
    "    # Add categorical variables with prespecified default group into the formula\n",
    "    if dict_cat:\n",
    "        for key, val in dict_cat.items():\n",
    "            formula_patsy += f'+C({key}, Treatment(reference=\"{val}\"))'\n",
    "\n",
    "    # Create the matrix using patsy\n",
    "    _, X = patsy.dmatrices(formula_patsy, df, return_type='matrix')\n",
    "    cols_X = X.design_info.column_names[1:]\n",
    "    X = X[:, 1:]\n",
    "\n",
    "    return X, cols_X\n",
    "\n",
    "\n",
    "# A function to prepare data for model training\n",
    "### Inputs\n",
    "# df: data frame\n",
    "# outcome: name of the outcome variable\n",
    "# weight: name of the weights of observations\n",
    "# test_size: (between 0 and 1) fraction of observations in test set\n",
    "# rnd_state: random state for reproducibility of results\n",
    "# dict_cat: a dictionary with names of categorical variables as the key and values of the default group as the values\n",
    "### Output:\n",
    "# df_train, df_test: data frame for train and test data\n",
    "# y_train, y_test: outcomes for train and test data\n",
    "# X_train, X_test: predictor matrix for train and test data\n",
    "# weights_train, weights_test: weights for train and test data\n",
    "# cols_X_train, cols_X_test: names of predictors\n",
    "def prepare_data(df, outcome, weight, test_size, rnd_state, dict_cat={}):\n",
    "\n",
    "    y = df[outcome]\n",
    "\n",
    "    # Split data into train and test\n",
    "    df_train, df_test, y_train, y_test = train_test_split(\n",
    "        df, y, test_size=test_size, random_state=rnd_state)\n",
    "\n",
    "    # Get the observations weights\n",
    "    weights_train = df_train[weight]\n",
    "    weights_test = df_test[weight]\n",
    "\n",
    "    # Remove the weights and outcome from the df\n",
    "    df_train = df_train.drop(columns=[weight])\n",
    "    df_test = df_test.drop(columns=[weight])\n",
    "\n",
    "    X_train, cols_X_train = create_X_mat(df_train, outcome, dict_cat)\n",
    "    X_test, cols_X_test = create_X_mat(df_test, outcome, dict_cat)\n",
    "\n",
    "    return df_train, df_test, y_train, y_test, X_train, X_test, weights_train, weights_test, cols_X_train, cols_X_test"
   ]
  },
  {
   "cell_type": "code",
   "execution_count": 11,
   "metadata": {
    "scrolled": false
   },
   "outputs": [],
   "source": [
    "# Dictionary for the \"default\" group of each categorical variable\n",
    "dict_cat = {\n",
    "    'currentlivingsituation': '5.0',\n",
    "    'employmenttype': '5.0',\n",
    "    'laborstatus': '5.0'\n",
    "}"
   ]
  },
  {
   "cell_type": "code",
   "execution_count": 12,
   "metadata": {
    "scrolled": false
   },
   "outputs": [],
   "source": [
    "# Split the main data\n",
    "df_train, df_test, y_train, y_test, X_train, X_test, weights_train, weights_test, cols_X_train, cols_X_test = prepare_data(\n",
    "    df1, 'mpay_tap_and_pay_1year', 'r_weight', 0.2, 1234, dict_cat)"
   ]
  },
  {
   "cell_type": "code",
   "execution_count": 13,
   "metadata": {
    "scrolled": false
   },
   "outputs": [
    {
     "data": {
      "text/plain": [
       "0.14483036153981452"
      ]
     },
     "execution_count": 13,
     "metadata": {},
     "output_type": "execute_result"
    },
    {
     "data": {
      "text/plain": [
       "0.15570735096677835"
      ]
     },
     "execution_count": 13,
     "metadata": {},
     "output_type": "execute_result"
    }
   ],
   "source": [
    "# Check balances of labels in test and train set\n",
    "# Ok they are similar, so we don't have to be too worried\n",
    "np.average(y_train, weights=weights_train)\n",
    "np.average(y_test, weights=weights_test)"
   ]
  },
  {
   "cell_type": "code",
   "execution_count": 14,
   "metadata": {},
   "outputs": [
    {
     "name": "stdout",
     "output_type": "stream",
     "text": [
      "<class 'pandas.core.frame.DataFrame'>\n",
      "Int64Index: 2451 entries, 1675 to 2863\n",
      "Data columns (total 17 columns):\n",
      " #   Column                         Non-Null Count  Dtype  \n",
      "---  ------                         --------------  -----  \n",
      " 0   age                            2451 non-null   int64  \n",
      " 1   census_division                2451 non-null   object \n",
      " 2   currentlivingsituation         2451 non-null   object \n",
      " 3   own_prim_home                  2451 non-null   float64\n",
      " 4   education                      2451 non-null   int64  \n",
      " 5   employmenttype                 2451 non-null   object \n",
      " 6   male                           2451 non-null   int64  \n",
      " 7   hourswork                      2451 non-null   float64\n",
      " 8   laborstatus                    2451 non-null   object \n",
      " 9   race                           2451 non-null   object \n",
      " 10  cc_adopt                       2451 non-null   float64\n",
      " 11  dc_adopt                       2451 non-null   float64\n",
      " 12  mpay_tap_and_pay_1year         2451 non-null   float64\n",
      " 13  log_hhincome                   2451 non-null   float64\n",
      " 14  log_fico_score                 2451 non-null   float64\n",
      " 15  log_prim_home_mkt_value        2451 non-null   float64\n",
      " 16  log_assets_non_home_mkt_value  2451 non-null   float64\n",
      "dtypes: float64(9), int64(3), object(5)\n",
      "memory usage: 344.7+ KB\n",
      "<class 'pandas.core.frame.DataFrame'>\n",
      "Int64Index: 613 entries, 1703 to 1214\n",
      "Data columns (total 17 columns):\n",
      " #   Column                         Non-Null Count  Dtype  \n",
      "---  ------                         --------------  -----  \n",
      " 0   age                            613 non-null    int64  \n",
      " 1   census_division                613 non-null    object \n",
      " 2   currentlivingsituation         613 non-null    object \n",
      " 3   own_prim_home                  613 non-null    float64\n",
      " 4   education                      613 non-null    int64  \n",
      " 5   employmenttype                 613 non-null    object \n",
      " 6   male                           613 non-null    int64  \n",
      " 7   hourswork                      613 non-null    float64\n",
      " 8   laborstatus                    613 non-null    object \n",
      " 9   race                           613 non-null    object \n",
      " 10  cc_adopt                       613 non-null    float64\n",
      " 11  dc_adopt                       613 non-null    float64\n",
      " 12  mpay_tap_and_pay_1year         613 non-null    float64\n",
      " 13  log_hhincome                   613 non-null    float64\n",
      " 14  log_fico_score                 613 non-null    float64\n",
      " 15  log_prim_home_mkt_value        613 non-null    float64\n",
      " 16  log_assets_non_home_mkt_value  613 non-null    float64\n",
      "dtypes: float64(9), int64(3), object(5)\n",
      "memory usage: 86.2+ KB\n"
     ]
    },
    {
     "data": {
      "text/plain": [
       "(2451, 39)"
      ]
     },
     "execution_count": 14,
     "metadata": {},
     "output_type": "execute_result"
    },
    {
     "data": {
      "text/plain": [
       "(613, 38)"
      ]
     },
     "execution_count": 14,
     "metadata": {},
     "output_type": "execute_result"
    }
   ],
   "source": [
    "# Sanity check of the shape of df and matrices\n",
    "df_train.info()\n",
    "df_test.info()\n",
    "X_train.shape\n",
    "X_test.shape"
   ]
  },
  {
   "cell_type": "code",
   "execution_count": 15,
   "metadata": {},
   "outputs": [
    {
     "name": "stdout",
     "output_type": "stream",
     "text": [
      "['race[T.5.0]']\n",
      "Check whether test and train contains same number of columns: True\n"
     ]
    }
   ],
   "source": [
    "# For any missing columns because there's no such group (for a categorical variable) in the test data\n",
    "# create a column of zeros in the corresponding position in the X matrix\n",
    "# This way of cleaning is specific to the situation where there are more variables in train than test, and no\n",
    "# missing variables that are only in test but not train\n",
    "vars_to_add = []\n",
    "vars_to_add_index = []\n",
    "\n",
    "for i, var in enumerate(cols_X_train):\n",
    "    if var not in cols_X_test:\n",
    "        vars_to_add.append(var)\n",
    "        vars_to_add_index.append(i)\n",
    "        \n",
    "print(vars_to_add)\n",
    "\n",
    "for i, var in enumerate(vars_to_add):\n",
    "    \n",
    "    tmp_index = vars_to_add_index[i]\n",
    "    X_test = np.hstack((X_test[:,:tmp_index],\n",
    "                            np.zeros(X_test.shape[0]).reshape((X_test.shape[0],1)),\n",
    "                            X_test[:,tmp_index:]))\n",
    "    cols_X_test = cols_X_test[:tmp_index] + [var] + cols_X_test[tmp_index:]\n",
    "    \n",
    "print(f'Check whether test and train contains same number of columns: {X_test.shape[1] == X_train.shape[1]}')"
   ]
  },
  {
   "cell_type": "markdown",
   "metadata": {},
   "source": [
    "## Standardize data"
   ]
  },
  {
   "cell_type": "code",
   "execution_count": 16,
   "metadata": {},
   "outputs": [
    {
     "data": {
      "text/plain": [
       "StandardScaler()"
      ]
     },
     "execution_count": 16,
     "metadata": {},
     "output_type": "execute_result"
    }
   ],
   "source": [
    "scaler = StandardScaler()\n",
    "scaler.fit(X_train)\n",
    "\n",
    "X_train_std = scaler.fit_transform(X_train)\n",
    "X_test_std = scaler.fit_transform(X_test)"
   ]
  },
  {
   "cell_type": "markdown",
   "metadata": {},
   "source": [
    "# Logistic regression"
   ]
  },
  {
   "cell_type": "markdown",
   "metadata": {},
   "source": [
    "## Without regularization\n",
    "\n",
    "While theoretically I do not have to standardize data for logistic regression alone, I standardize data here to faciliate the convergence/ computation process."
   ]
  },
  {
   "cell_type": "code",
   "execution_count": 17,
   "metadata": {
    "scrolled": false
   },
   "outputs": [],
   "source": [
    "fit_logit_sklearn = LogisticRegression(\n",
    "    fit_intercept=True,\n",
    "    penalty='none',\n",
    "    max_iter=1000\n",
    ").fit(X_train_std, y_train, sample_weight=weights_train)"
   ]
  },
  {
   "cell_type": "code",
   "execution_count": 18,
   "metadata": {
    "scrolled": false
   },
   "outputs": [
    {
     "data": {
      "text/html": [
       "<div>\n",
       "<style scoped>\n",
       "    .dataframe tbody tr th:only-of-type {\n",
       "        vertical-align: middle;\n",
       "    }\n",
       "\n",
       "    .dataframe tbody tr th {\n",
       "        vertical-align: top;\n",
       "    }\n",
       "\n",
       "    .dataframe thead th {\n",
       "        text-align: right;\n",
       "    }\n",
       "</style>\n",
       "<table border=\"1\" class=\"dataframe\">\n",
       "  <thead>\n",
       "    <tr style=\"text-align: right;\">\n",
       "      <th></th>\n",
       "      <th>Var</th>\n",
       "      <th>Coef</th>\n",
       "    </tr>\n",
       "  </thead>\n",
       "  <tbody>\n",
       "    <tr>\n",
       "      <th>0</th>\n",
       "      <td>Intercept</td>\n",
       "      <td>-2.398366</td>\n",
       "    </tr>\n",
       "    <tr>\n",
       "      <th>1</th>\n",
       "      <td>census_division[T.2.0]</td>\n",
       "      <td>0.073025</td>\n",
       "    </tr>\n",
       "    <tr>\n",
       "      <th>2</th>\n",
       "      <td>census_division[T.3.0]</td>\n",
       "      <td>0.317245</td>\n",
       "    </tr>\n",
       "    <tr>\n",
       "      <th>3</th>\n",
       "      <td>census_division[T.4.0]</td>\n",
       "      <td>0.100794</td>\n",
       "    </tr>\n",
       "    <tr>\n",
       "      <th>4</th>\n",
       "      <td>census_division[T.5.0]</td>\n",
       "      <td>0.359183</td>\n",
       "    </tr>\n",
       "    <tr>\n",
       "      <th>5</th>\n",
       "      <td>census_division[T.6.0]</td>\n",
       "      <td>0.437488</td>\n",
       "    </tr>\n",
       "    <tr>\n",
       "      <th>6</th>\n",
       "      <td>census_division[T.7.0]</td>\n",
       "      <td>0.248810</td>\n",
       "    </tr>\n",
       "    <tr>\n",
       "      <th>7</th>\n",
       "      <td>census_division[T.8.0]</td>\n",
       "      <td>0.221712</td>\n",
       "    </tr>\n",
       "    <tr>\n",
       "      <th>8</th>\n",
       "      <td>census_division[T.9.0]</td>\n",
       "      <td>0.303437</td>\n",
       "    </tr>\n",
       "    <tr>\n",
       "      <th>9</th>\n",
       "      <td>race[T.2.0]</td>\n",
       "      <td>0.001536</td>\n",
       "    </tr>\n",
       "    <tr>\n",
       "      <th>10</th>\n",
       "      <td>race[T.3.0]</td>\n",
       "      <td>-0.043316</td>\n",
       "    </tr>\n",
       "    <tr>\n",
       "      <th>11</th>\n",
       "      <td>race[T.4.0]</td>\n",
       "      <td>0.123753</td>\n",
       "    </tr>\n",
       "    <tr>\n",
       "      <th>12</th>\n",
       "      <td>race[T.5.0]</td>\n",
       "      <td>0.078952</td>\n",
       "    </tr>\n",
       "    <tr>\n",
       "      <th>13</th>\n",
       "      <td>race[T.6.0]</td>\n",
       "      <td>0.080717</td>\n",
       "    </tr>\n",
       "    <tr>\n",
       "      <th>14</th>\n",
       "      <td>C(currentlivingsituation, Treatment(reference=...</td>\n",
       "      <td>0.038222</td>\n",
       "    </tr>\n",
       "    <tr>\n",
       "      <th>15</th>\n",
       "      <td>C(currentlivingsituation, Treatment(reference=...</td>\n",
       "      <td>-0.074262</td>\n",
       "    </tr>\n",
       "    <tr>\n",
       "      <th>16</th>\n",
       "      <td>C(currentlivingsituation, Treatment(reference=...</td>\n",
       "      <td>-0.031829</td>\n",
       "    </tr>\n",
       "    <tr>\n",
       "      <th>17</th>\n",
       "      <td>C(currentlivingsituation, Treatment(reference=...</td>\n",
       "      <td>0.027370</td>\n",
       "    </tr>\n",
       "    <tr>\n",
       "      <th>18</th>\n",
       "      <td>C(employmenttype, Treatment(reference=\"5.0\"))[...</td>\n",
       "      <td>0.521026</td>\n",
       "    </tr>\n",
       "    <tr>\n",
       "      <th>19</th>\n",
       "      <td>C(employmenttype, Treatment(reference=\"5.0\"))[...</td>\n",
       "      <td>0.738155</td>\n",
       "    </tr>\n",
       "    <tr>\n",
       "      <th>20</th>\n",
       "      <td>C(employmenttype, Treatment(reference=\"5.0\"))[...</td>\n",
       "      <td>0.387360</td>\n",
       "    </tr>\n",
       "    <tr>\n",
       "      <th>21</th>\n",
       "      <td>C(employmenttype, Treatment(reference=\"5.0\"))[...</td>\n",
       "      <td>0.389296</td>\n",
       "    </tr>\n",
       "    <tr>\n",
       "      <th>22</th>\n",
       "      <td>C(laborstatus, Treatment(reference=\"5.0\"))[T.1.0]</td>\n",
       "      <td>-0.240053</td>\n",
       "    </tr>\n",
       "    <tr>\n",
       "      <th>23</th>\n",
       "      <td>C(laborstatus, Treatment(reference=\"5.0\"))[T.2.0]</td>\n",
       "      <td>-0.796219</td>\n",
       "    </tr>\n",
       "    <tr>\n",
       "      <th>24</th>\n",
       "      <td>C(laborstatus, Treatment(reference=\"5.0\"))[T.3.0]</td>\n",
       "      <td>-0.828945</td>\n",
       "    </tr>\n",
       "    <tr>\n",
       "      <th>25</th>\n",
       "      <td>C(laborstatus, Treatment(reference=\"5.0\"))[T.4.0]</td>\n",
       "      <td>-0.011851</td>\n",
       "    </tr>\n",
       "    <tr>\n",
       "      <th>26</th>\n",
       "      <td>C(laborstatus, Treatment(reference=\"5.0\"))[T.6.0]</td>\n",
       "      <td>0.220009</td>\n",
       "    </tr>\n",
       "    <tr>\n",
       "      <th>27</th>\n",
       "      <td>C(laborstatus, Treatment(reference=\"5.0\"))[T.7.0]</td>\n",
       "      <td>-0.059977</td>\n",
       "    </tr>\n",
       "    <tr>\n",
       "      <th>28</th>\n",
       "      <td>C(laborstatus, Treatment(reference=\"5.0\"))[T.8.0]</td>\n",
       "      <td>-0.216551</td>\n",
       "    </tr>\n",
       "    <tr>\n",
       "      <th>29</th>\n",
       "      <td>age</td>\n",
       "      <td>-0.504241</td>\n",
       "    </tr>\n",
       "    <tr>\n",
       "      <th>30</th>\n",
       "      <td>own_prim_home</td>\n",
       "      <td>-0.588263</td>\n",
       "    </tr>\n",
       "    <tr>\n",
       "      <th>31</th>\n",
       "      <td>education</td>\n",
       "      <td>0.229714</td>\n",
       "    </tr>\n",
       "    <tr>\n",
       "      <th>32</th>\n",
       "      <td>male</td>\n",
       "      <td>0.154419</td>\n",
       "    </tr>\n",
       "    <tr>\n",
       "      <th>33</th>\n",
       "      <td>hourswork</td>\n",
       "      <td>-0.309890</td>\n",
       "    </tr>\n",
       "    <tr>\n",
       "      <th>34</th>\n",
       "      <td>cc_adopt</td>\n",
       "      <td>0.162184</td>\n",
       "    </tr>\n",
       "    <tr>\n",
       "      <th>35</th>\n",
       "      <td>dc_adopt</td>\n",
       "      <td>0.218980</td>\n",
       "    </tr>\n",
       "    <tr>\n",
       "      <th>36</th>\n",
       "      <td>log_hhincome</td>\n",
       "      <td>0.068324</td>\n",
       "    </tr>\n",
       "    <tr>\n",
       "      <th>37</th>\n",
       "      <td>log_fico_score</td>\n",
       "      <td>0.017961</td>\n",
       "    </tr>\n",
       "    <tr>\n",
       "      <th>38</th>\n",
       "      <td>log_prim_home_mkt_value</td>\n",
       "      <td>0.397145</td>\n",
       "    </tr>\n",
       "    <tr>\n",
       "      <th>39</th>\n",
       "      <td>log_assets_non_home_mkt_value</td>\n",
       "      <td>0.217816</td>\n",
       "    </tr>\n",
       "  </tbody>\n",
       "</table>\n",
       "</div>"
      ],
      "text/plain": [
       "                                                  Var      Coef\n",
       "0                                           Intercept -2.398366\n",
       "1                              census_division[T.2.0]  0.073025\n",
       "2                              census_division[T.3.0]  0.317245\n",
       "3                              census_division[T.4.0]  0.100794\n",
       "4                              census_division[T.5.0]  0.359183\n",
       "5                              census_division[T.6.0]  0.437488\n",
       "6                              census_division[T.7.0]  0.248810\n",
       "7                              census_division[T.8.0]  0.221712\n",
       "8                              census_division[T.9.0]  0.303437\n",
       "9                                         race[T.2.0]  0.001536\n",
       "10                                        race[T.3.0] -0.043316\n",
       "11                                        race[T.4.0]  0.123753\n",
       "12                                        race[T.5.0]  0.078952\n",
       "13                                        race[T.6.0]  0.080717\n",
       "14  C(currentlivingsituation, Treatment(reference=...  0.038222\n",
       "15  C(currentlivingsituation, Treatment(reference=... -0.074262\n",
       "16  C(currentlivingsituation, Treatment(reference=... -0.031829\n",
       "17  C(currentlivingsituation, Treatment(reference=...  0.027370\n",
       "18  C(employmenttype, Treatment(reference=\"5.0\"))[...  0.521026\n",
       "19  C(employmenttype, Treatment(reference=\"5.0\"))[...  0.738155\n",
       "20  C(employmenttype, Treatment(reference=\"5.0\"))[...  0.387360\n",
       "21  C(employmenttype, Treatment(reference=\"5.0\"))[...  0.389296\n",
       "22  C(laborstatus, Treatment(reference=\"5.0\"))[T.1.0] -0.240053\n",
       "23  C(laborstatus, Treatment(reference=\"5.0\"))[T.2.0] -0.796219\n",
       "24  C(laborstatus, Treatment(reference=\"5.0\"))[T.3.0] -0.828945\n",
       "25  C(laborstatus, Treatment(reference=\"5.0\"))[T.4.0] -0.011851\n",
       "26  C(laborstatus, Treatment(reference=\"5.0\"))[T.6.0]  0.220009\n",
       "27  C(laborstatus, Treatment(reference=\"5.0\"))[T.7.0] -0.059977\n",
       "28  C(laborstatus, Treatment(reference=\"5.0\"))[T.8.0] -0.216551\n",
       "29                                                age -0.504241\n",
       "30                                      own_prim_home -0.588263\n",
       "31                                          education  0.229714\n",
       "32                                               male  0.154419\n",
       "33                                          hourswork -0.309890\n",
       "34                                           cc_adopt  0.162184\n",
       "35                                           dc_adopt  0.218980\n",
       "36                                       log_hhincome  0.068324\n",
       "37                                     log_fico_score  0.017961\n",
       "38                            log_prim_home_mkt_value  0.397145\n",
       "39                      log_assets_non_home_mkt_value  0.217816"
      ]
     },
     "execution_count": 18,
     "metadata": {},
     "output_type": "execute_result"
    }
   ],
   "source": [
    "# Print results\n",
    "pd.DataFrame({'Var': ['Intercept'] + cols_X_train,\n",
    "             'Coef': np.append(fit_logit_sklearn.intercept_,fit_logit_sklearn.coef_.tolist())})"
   ]
  },
  {
   "cell_type": "code",
   "execution_count": 19,
   "metadata": {
    "scrolled": false
   },
   "outputs": [
    {
     "data": {
      "text/html": [
       "<table class=\"simpletable\">\n",
       "<caption>Generalized Linear Model Regression Results</caption>\n",
       "<tr>\n",
       "  <th>Dep. Variable:</th>   <td>mpay_tap_and_pay_1year</td> <th>  No. Observations:  </th>  <td>  2451</td> \n",
       "</tr>\n",
       "<tr>\n",
       "  <th>Model:</th>                     <td>GLM</td>          <th>  Df Residuals:      </th>  <td>  2411</td> \n",
       "</tr>\n",
       "<tr>\n",
       "  <th>Model Family:</th>           <td>Binomial</td>        <th>  Df Model:          </th>  <td>    39</td> \n",
       "</tr>\n",
       "<tr>\n",
       "  <th>Link Function:</th>            <td>logit</td>         <th>  Scale:             </th> <td>  1.0000</td>\n",
       "</tr>\n",
       "<tr>\n",
       "  <th>Method:</th>                   <td>IRLS</td>          <th>  Log-Likelihood:    </th> <td> -860.17</td>\n",
       "</tr>\n",
       "<tr>\n",
       "  <th>Date:</th>               <td>Sun, 26 Sep 2021</td>    <th>  Deviance:          </th> <td>  1720.3</td>\n",
       "</tr>\n",
       "<tr>\n",
       "  <th>Time:</th>                   <td>22:10:42</td>        <th>  Pearson chi2:      </th> <td>2.61e+03</td>\n",
       "</tr>\n",
       "<tr>\n",
       "  <th>No. Iterations:</th>            <td>22</td>           <th>                     </th>     <td> </td>   \n",
       "</tr>\n",
       "<tr>\n",
       "  <th>Covariance Type:</th>        <td>nonrobust</td>       <th>                     </th>     <td> </td>   \n",
       "</tr>\n",
       "</table>\n",
       "<table class=\"simpletable\">\n",
       "<tr>\n",
       "                                <td></td>                                  <th>coef</th>     <th>std err</th>      <th>z</th>      <th>P>|z|</th>  <th>[0.025</th>    <th>0.975]</th>  \n",
       "</tr>\n",
       "<tr>\n",
       "  <th>Intercept</th>                                                    <td>   -2.4722</td> <td>  135.130</td> <td>   -0.018</td> <td> 0.985</td> <td> -267.323</td> <td>  262.379</td>\n",
       "</tr>\n",
       "<tr>\n",
       "  <th>census_division[T.2.0]</th>                                       <td>    0.0733</td> <td>    0.146</td> <td>    0.503</td> <td> 0.615</td> <td>   -0.212</td> <td>    0.359</td>\n",
       "</tr>\n",
       "<tr>\n",
       "  <th>census_division[T.3.0]</th>                                       <td>    0.3175</td> <td>    0.167</td> <td>    1.907</td> <td> 0.057</td> <td>   -0.009</td> <td>    0.644</td>\n",
       "</tr>\n",
       "<tr>\n",
       "  <th>census_division[T.4.0]</th>                                       <td>    0.1010</td> <td>    0.145</td> <td>    0.695</td> <td> 0.487</td> <td>   -0.184</td> <td>    0.386</td>\n",
       "</tr>\n",
       "<tr>\n",
       "  <th>census_division[T.5.0]</th>                                       <td>    0.3595</td> <td>    0.166</td> <td>    2.159</td> <td> 0.031</td> <td>    0.033</td> <td>    0.686</td>\n",
       "</tr>\n",
       "<tr>\n",
       "  <th>census_division[T.6.0]</th>                                       <td>    0.4376</td> <td>    0.110</td> <td>    3.974</td> <td> 0.000</td> <td>    0.222</td> <td>    0.654</td>\n",
       "</tr>\n",
       "<tr>\n",
       "  <th>census_division[T.7.0]</th>                                       <td>    0.2490</td> <td>    0.124</td> <td>    2.016</td> <td> 0.044</td> <td>    0.007</td> <td>    0.491</td>\n",
       "</tr>\n",
       "<tr>\n",
       "  <th>census_division[T.8.0]</th>                                       <td>    0.2219</td> <td>    0.108</td> <td>    2.058</td> <td> 0.040</td> <td>    0.011</td> <td>    0.433</td>\n",
       "</tr>\n",
       "<tr>\n",
       "  <th>census_division[T.9.0]</th>                                       <td>    0.3037</td> <td>    0.129</td> <td>    2.359</td> <td> 0.018</td> <td>    0.051</td> <td>    0.556</td>\n",
       "</tr>\n",
       "<tr>\n",
       "  <th>race[T.2.0]</th>                                                  <td>    0.0015</td> <td>    0.057</td> <td>    0.027</td> <td> 0.979</td> <td>   -0.110</td> <td>    0.113</td>\n",
       "</tr>\n",
       "<tr>\n",
       "  <th>race[T.3.0]</th>                                                  <td>   -0.0433</td> <td>    0.072</td> <td>   -0.600</td> <td> 0.548</td> <td>   -0.185</td> <td>    0.098</td>\n",
       "</tr>\n",
       "<tr>\n",
       "  <th>race[T.4.0]</th>                                                  <td>    0.1238</td> <td>    0.039</td> <td>    3.160</td> <td> 0.002</td> <td>    0.047</td> <td>    0.201</td>\n",
       "</tr>\n",
       "<tr>\n",
       "  <th>race[T.5.0]</th>                                                  <td>    0.0789</td> <td>    0.039</td> <td>    2.046</td> <td> 0.041</td> <td>    0.003</td> <td>    0.155</td>\n",
       "</tr>\n",
       "<tr>\n",
       "  <th>race[T.6.0]</th>                                                  <td>    0.0807</td> <td>    0.045</td> <td>    1.782</td> <td> 0.075</td> <td>   -0.008</td> <td>    0.169</td>\n",
       "</tr>\n",
       "<tr>\n",
       "  <th>C(currentlivingsituation, Treatment(reference=\"5.0\"))[T.1.0]</th> <td>    0.0382</td> <td>    0.084</td> <td>    0.457</td> <td> 0.648</td> <td>   -0.126</td> <td>    0.202</td>\n",
       "</tr>\n",
       "<tr>\n",
       "  <th>C(currentlivingsituation, Treatment(reference=\"5.0\"))[T.2.0]</th> <td>   -0.0743</td> <td>    0.082</td> <td>   -0.901</td> <td> 0.368</td> <td>   -0.236</td> <td>    0.087</td>\n",
       "</tr>\n",
       "<tr>\n",
       "  <th>C(currentlivingsituation, Treatment(reference=\"5.0\"))[T.3.0]</th> <td>   -0.0319</td> <td>    0.095</td> <td>   -0.336</td> <td> 0.737</td> <td>   -0.217</td> <td>    0.154</td>\n",
       "</tr>\n",
       "<tr>\n",
       "  <th>C(currentlivingsituation, Treatment(reference=\"5.0\"))[T.4.0]</th> <td>    0.0273</td> <td>    0.109</td> <td>    0.250</td> <td> 0.803</td> <td>   -0.187</td> <td>    0.242</td>\n",
       "</tr>\n",
       "<tr>\n",
       "  <th>C(employmenttype, Treatment(reference=\"5.0\"))[T.1.0]</th>         <td>    0.5203</td> <td>    0.265</td> <td>    1.964</td> <td> 0.049</td> <td>    0.001</td> <td>    1.040</td>\n",
       "</tr>\n",
       "<tr>\n",
       "  <th>C(employmenttype, Treatment(reference=\"5.0\"))[T.2.0]</th>         <td>    0.7371</td> <td>    0.394</td> <td>    1.871</td> <td> 0.061</td> <td>   -0.035</td> <td>    1.509</td>\n",
       "</tr>\n",
       "<tr>\n",
       "  <th>C(employmenttype, Treatment(reference=\"5.0\"))[T.3.0]</th>         <td>    0.3868</td> <td>    0.235</td> <td>    1.647</td> <td> 0.099</td> <td>   -0.073</td> <td>    0.847</td>\n",
       "</tr>\n",
       "<tr>\n",
       "  <th>C(employmenttype, Treatment(reference=\"5.0\"))[T.4.0]</th>         <td>    0.3888</td> <td>    0.216</td> <td>    1.796</td> <td> 0.072</td> <td>   -0.035</td> <td>    0.813</td>\n",
       "</tr>\n",
       "<tr>\n",
       "  <th>C(laborstatus, Treatment(reference=\"5.0\"))[T.1.0]</th>            <td>   -0.2394</td> <td>    0.466</td> <td>   -0.514</td> <td> 0.607</td> <td>   -1.152</td> <td>    0.674</td>\n",
       "</tr>\n",
       "<tr>\n",
       "  <th>C(laborstatus, Treatment(reference=\"5.0\"))[T.2.0]</th>            <td>   -1.2324</td> <td> 1113.824</td> <td>   -0.001</td> <td> 0.999</td> <td>-2184.287</td> <td> 2181.822</td>\n",
       "</tr>\n",
       "<tr>\n",
       "  <th>C(laborstatus, Treatment(reference=\"5.0\"))[T.3.0]</th>            <td>   -1.5506</td> <td> 1728.927</td> <td>   -0.001</td> <td> 0.999</td> <td>-3390.185</td> <td> 3387.084</td>\n",
       "</tr>\n",
       "<tr>\n",
       "  <th>C(laborstatus, Treatment(reference=\"5.0\"))[T.4.0]</th>            <td>   -0.0120</td> <td>    0.097</td> <td>   -0.123</td> <td> 0.902</td> <td>   -0.203</td> <td>    0.179</td>\n",
       "</tr>\n",
       "<tr>\n",
       "  <th>C(laborstatus, Treatment(reference=\"5.0\"))[T.6.0]</th>            <td>    0.2199</td> <td>    0.104</td> <td>    2.119</td> <td> 0.034</td> <td>    0.016</td> <td>    0.423</td>\n",
       "</tr>\n",
       "<tr>\n",
       "  <th>C(laborstatus, Treatment(reference=\"5.0\"))[T.7.0]</th>            <td>   -0.0601</td> <td>    0.097</td> <td>   -0.621</td> <td> 0.535</td> <td>   -0.250</td> <td>    0.130</td>\n",
       "</tr>\n",
       "<tr>\n",
       "  <th>C(laborstatus, Treatment(reference=\"5.0\"))[T.8.0]</th>            <td>   -0.2162</td> <td>    0.207</td> <td>   -1.046</td> <td> 0.296</td> <td>   -0.621</td> <td>    0.189</td>\n",
       "</tr>\n",
       "<tr>\n",
       "  <th>age</th>                                                          <td>   -0.5043</td> <td>    0.092</td> <td>   -5.479</td> <td> 0.000</td> <td>   -0.685</td> <td>   -0.324</td>\n",
       "</tr>\n",
       "<tr>\n",
       "  <th>own_prim_home</th>                                                <td>   -0.5869</td> <td>    0.409</td> <td>   -1.436</td> <td> 0.151</td> <td>   -1.388</td> <td>    0.214</td>\n",
       "</tr>\n",
       "<tr>\n",
       "  <th>education</th>                                                    <td>    0.2297</td> <td>    0.073</td> <td>    3.139</td> <td> 0.002</td> <td>    0.086</td> <td>    0.373</td>\n",
       "</tr>\n",
       "<tr>\n",
       "  <th>male</th>                                                         <td>    0.1544</td> <td>    0.066</td> <td>    2.333</td> <td> 0.020</td> <td>    0.025</td> <td>    0.284</td>\n",
       "</tr>\n",
       "<tr>\n",
       "  <th>hourswork</th>                                                    <td>   -0.3097</td> <td>    0.160</td> <td>   -1.932</td> <td> 0.053</td> <td>   -0.624</td> <td>    0.005</td>\n",
       "</tr>\n",
       "<tr>\n",
       "  <th>cc_adopt</th>                                                     <td>    0.1622</td> <td>    0.075</td> <td>    2.164</td> <td> 0.030</td> <td>    0.015</td> <td>    0.309</td>\n",
       "</tr>\n",
       "<tr>\n",
       "  <th>dc_adopt</th>                                                     <td>    0.2190</td> <td>    0.093</td> <td>    2.366</td> <td> 0.018</td> <td>    0.038</td> <td>    0.400</td>\n",
       "</tr>\n",
       "<tr>\n",
       "  <th>log_hhincome</th>                                                 <td>    0.0684</td> <td>    0.097</td> <td>    0.706</td> <td> 0.480</td> <td>   -0.122</td> <td>    0.258</td>\n",
       "</tr>\n",
       "<tr>\n",
       "  <th>log_fico_score</th>                                               <td>    0.0180</td> <td>    0.077</td> <td>    0.233</td> <td> 0.816</td> <td>   -0.133</td> <td>    0.169</td>\n",
       "</tr>\n",
       "<tr>\n",
       "  <th>log_prim_home_mkt_value</th>                                      <td>    0.3957</td> <td>    0.419</td> <td>    0.943</td> <td> 0.345</td> <td>   -0.426</td> <td>    1.218</td>\n",
       "</tr>\n",
       "<tr>\n",
       "  <th>log_assets_non_home_mkt_value</th>                                <td>    0.2178</td> <td>    0.071</td> <td>    3.060</td> <td> 0.002</td> <td>    0.078</td> <td>    0.357</td>\n",
       "</tr>\n",
       "</table>"
      ],
      "text/plain": [
       "<class 'statsmodels.iolib.summary.Summary'>\n",
       "\"\"\"\n",
       "                   Generalized Linear Model Regression Results                    \n",
       "==================================================================================\n",
       "Dep. Variable:     mpay_tap_and_pay_1year   No. Observations:                 2451\n",
       "Model:                                GLM   Df Residuals:                     2411\n",
       "Model Family:                    Binomial   Df Model:                           39\n",
       "Link Function:                      logit   Scale:                          1.0000\n",
       "Method:                              IRLS   Log-Likelihood:                -860.17\n",
       "Date:                    Sun, 26 Sep 2021   Deviance:                       1720.3\n",
       "Time:                            22:10:42   Pearson chi2:                 2.61e+03\n",
       "No. Iterations:                        22                                         \n",
       "Covariance Type:                nonrobust                                         \n",
       "================================================================================================================================\n",
       "                                                                   coef    std err          z      P>|z|      [0.025      0.975]\n",
       "--------------------------------------------------------------------------------------------------------------------------------\n",
       "Intercept                                                       -2.4722    135.130     -0.018      0.985    -267.323     262.379\n",
       "census_division[T.2.0]                                           0.0733      0.146      0.503      0.615      -0.212       0.359\n",
       "census_division[T.3.0]                                           0.3175      0.167      1.907      0.057      -0.009       0.644\n",
       "census_division[T.4.0]                                           0.1010      0.145      0.695      0.487      -0.184       0.386\n",
       "census_division[T.5.0]                                           0.3595      0.166      2.159      0.031       0.033       0.686\n",
       "census_division[T.6.0]                                           0.4376      0.110      3.974      0.000       0.222       0.654\n",
       "census_division[T.7.0]                                           0.2490      0.124      2.016      0.044       0.007       0.491\n",
       "census_division[T.8.0]                                           0.2219      0.108      2.058      0.040       0.011       0.433\n",
       "census_division[T.9.0]                                           0.3037      0.129      2.359      0.018       0.051       0.556\n",
       "race[T.2.0]                                                      0.0015      0.057      0.027      0.979      -0.110       0.113\n",
       "race[T.3.0]                                                     -0.0433      0.072     -0.600      0.548      -0.185       0.098\n",
       "race[T.4.0]                                                      0.1238      0.039      3.160      0.002       0.047       0.201\n",
       "race[T.5.0]                                                      0.0789      0.039      2.046      0.041       0.003       0.155\n",
       "race[T.6.0]                                                      0.0807      0.045      1.782      0.075      -0.008       0.169\n",
       "C(currentlivingsituation, Treatment(reference=\"5.0\"))[T.1.0]     0.0382      0.084      0.457      0.648      -0.126       0.202\n",
       "C(currentlivingsituation, Treatment(reference=\"5.0\"))[T.2.0]    -0.0743      0.082     -0.901      0.368      -0.236       0.087\n",
       "C(currentlivingsituation, Treatment(reference=\"5.0\"))[T.3.0]    -0.0319      0.095     -0.336      0.737      -0.217       0.154\n",
       "C(currentlivingsituation, Treatment(reference=\"5.0\"))[T.4.0]     0.0273      0.109      0.250      0.803      -0.187       0.242\n",
       "C(employmenttype, Treatment(reference=\"5.0\"))[T.1.0]             0.5203      0.265      1.964      0.049       0.001       1.040\n",
       "C(employmenttype, Treatment(reference=\"5.0\"))[T.2.0]             0.7371      0.394      1.871      0.061      -0.035       1.509\n",
       "C(employmenttype, Treatment(reference=\"5.0\"))[T.3.0]             0.3868      0.235      1.647      0.099      -0.073       0.847\n",
       "C(employmenttype, Treatment(reference=\"5.0\"))[T.4.0]             0.3888      0.216      1.796      0.072      -0.035       0.813\n",
       "C(laborstatus, Treatment(reference=\"5.0\"))[T.1.0]               -0.2394      0.466     -0.514      0.607      -1.152       0.674\n",
       "C(laborstatus, Treatment(reference=\"5.0\"))[T.2.0]               -1.2324   1113.824     -0.001      0.999   -2184.287    2181.822\n",
       "C(laborstatus, Treatment(reference=\"5.0\"))[T.3.0]               -1.5506   1728.927     -0.001      0.999   -3390.185    3387.084\n",
       "C(laborstatus, Treatment(reference=\"5.0\"))[T.4.0]               -0.0120      0.097     -0.123      0.902      -0.203       0.179\n",
       "C(laborstatus, Treatment(reference=\"5.0\"))[T.6.0]                0.2199      0.104      2.119      0.034       0.016       0.423\n",
       "C(laborstatus, Treatment(reference=\"5.0\"))[T.7.0]               -0.0601      0.097     -0.621      0.535      -0.250       0.130\n",
       "C(laborstatus, Treatment(reference=\"5.0\"))[T.8.0]               -0.2162      0.207     -1.046      0.296      -0.621       0.189\n",
       "age                                                             -0.5043      0.092     -5.479      0.000      -0.685      -0.324\n",
       "own_prim_home                                                   -0.5869      0.409     -1.436      0.151      -1.388       0.214\n",
       "education                                                        0.2297      0.073      3.139      0.002       0.086       0.373\n",
       "male                                                             0.1544      0.066      2.333      0.020       0.025       0.284\n",
       "hourswork                                                       -0.3097      0.160     -1.932      0.053      -0.624       0.005\n",
       "cc_adopt                                                         0.1622      0.075      2.164      0.030       0.015       0.309\n",
       "dc_adopt                                                         0.2190      0.093      2.366      0.018       0.038       0.400\n",
       "log_hhincome                                                     0.0684      0.097      0.706      0.480      -0.122       0.258\n",
       "log_fico_score                                                   0.0180      0.077      0.233      0.816      -0.133       0.169\n",
       "log_prim_home_mkt_value                                          0.3957      0.419      0.943      0.345      -0.426       1.218\n",
       "log_assets_non_home_mkt_value                                    0.2178      0.071      3.060      0.002       0.078       0.357\n",
       "================================================================================================================================\n",
       "\"\"\""
      ]
     },
     "execution_count": 19,
     "metadata": {},
     "output_type": "execute_result"
    }
   ],
   "source": [
    "# Check with statsmmodel\n",
    "# Also see which coefs are stats sig\n",
    "fit_logit_statsmodel = sm.GLM(y_train,\n",
    "       sm.tools.tools.add_constant(X_train_std),\n",
    "       family = sm.families.Binomial(),\n",
    "       var_weights=weights_train).fit()\n",
    "\n",
    "fit_logit_statsmodel.summary(xname = ['Intercept'] +cols_X_train)"
   ]
  },
  {
   "cell_type": "markdown",
   "metadata": {},
   "source": [
    "### Model evaluation\n",
    "\n",
    "\n",
    "- Calculate train, test accuracy\n",
    "\n",
    "- Calculate the confusion matrix\n",
    "\n",
    "- Calculate the following statistics on the test set:\n",
    "\n",
    "    - PR curve, precision and recall\n",
    "    \n",
    "    - ROC curve, AUC\n",
    "    \n",
    "    - F1\n",
    "    \n",
    "- Understand the most important variables"
   ]
  },
  {
   "cell_type": "code",
   "execution_count": 20,
   "metadata": {
    "scrolled": false
   },
   "outputs": [],
   "source": [
    "# Using the sklearn model\n",
    "y_train_pred_logit_sklearn = fit_logit_sklearn.predict(X_train_std)\n",
    "y_test_pred_logit_sklearn = fit_logit_sklearn.predict(X_test_std)\n",
    "\n",
    "y_train_prob_logit_sklearn = fit_logit_sklearn.predict_proba(X_train_std)[:,1]\n",
    "y_test_prob_logit_sklearn = fit_logit_sklearn.predict_proba(X_test_std)[:,1]"
   ]
  },
  {
   "cell_type": "code",
   "execution_count": 21,
   "metadata": {
    "scrolled": false
   },
   "outputs": [
    {
     "name": "stdout",
     "output_type": "stream",
     "text": [
      "random guess accuracy:\n"
     ]
    },
    {
     "data": {
      "text/plain": [
       "0.8442926490332217"
      ]
     },
     "execution_count": 21,
     "metadata": {},
     "output_type": "execute_result"
    },
    {
     "name": "stdout",
     "output_type": "stream",
     "text": [
      "random guess f1\n"
     ]
    },
    {
     "data": {
      "text/plain": [
       "0.0"
      ]
     },
     "execution_count": 21,
     "metadata": {},
     "output_type": "execute_result"
    }
   ],
   "source": [
    "# Random guess benchmark (guessing that everyone will not adopt)\n",
    "print('random guess accuracy:')\n",
    "np.average(y_test == np.zeros(y_test.shape[0]), weights=weights_test)\n",
    "\n",
    "print('random guess f1')\n",
    "f1_score(y_test, np.zeros(y_test.shape[0]), sample_weight=weights_test)"
   ]
  },
  {
   "cell_type": "code",
   "execution_count": 22,
   "metadata": {},
   "outputs": [
    {
     "name": "stdout",
     "output_type": "stream",
     "text": [
      "Logistic regression's train accuracy: 0.862081462869971\n",
      "Logistic regression's test accuracy: 0.8550905693686173\n"
     ]
    }
   ],
   "source": [
    "# Calculate the accuracy for training and test\n",
    "train_accuracy_logit = fit_logit_sklearn.score(X_train_std, y_train, sample_weight=weights_train)\n",
    "test_accuracy_logit = fit_logit_sklearn.score(X_test_std, y_test, sample_weight=weights_test)\n",
    "print(f\"Logistic regression's train accuracy: {train_accuracy_logit}\")\n",
    "print(f\"Logistic regression's test accuracy: {test_accuracy_logit}\")"
   ]
  },
  {
   "cell_type": "code",
   "execution_count": 23,
   "metadata": {
    "scrolled": false
   },
   "outputs": [
    {
     "name": "stdout",
     "output_type": "stream",
     "text": [
      "Logistic regression's test F1 score: 0.18052000603913815\n"
     ]
    }
   ],
   "source": [
    "# F1 score for the logistic regression model\n",
    "f1_logit = f1_score(y_test, y_test_pred_logit_sklearn, sample_weight=weights_test)\n",
    "print(f\"Logistic regression's test F1 score: {f1_logit}\")"
   ]
  },
  {
   "cell_type": "code",
   "execution_count": 24,
   "metadata": {},
   "outputs": [
    {
     "name": "stdout",
     "output_type": "stream",
     "text": [
      "Logistic regression's precision: 0.7555889583124478\n",
      "Logistic regression's recall: 0.10250487539477834\n"
     ]
    }
   ],
   "source": [
    "precision_score_logit =  precision_score(y_test, y_test_pred_logit_sklearn, sample_weight=weights_test)\n",
    "recall_score_logit = recall_score(y_test, y_test_pred_logit_sklearn, sample_weight=weights_test)\n",
    "print(f\"Logistic regression's precision: {precision_score_logit}\")\n",
    "print(f\"Logistic regression's recall: {recall_score_logit}\")"
   ]
  },
  {
   "cell_type": "code",
   "execution_count": 25,
   "metadata": {
    "scrolled": false
   },
   "outputs": [
    {
     "data": {
      "text/plain": [
       "<AxesSubplot:>"
      ]
     },
     "execution_count": 25,
     "metadata": {},
     "output_type": "execute_result"
    },
    {
     "data": {
      "text/plain": [
       "[Text(0.5, 19.5, 'Predicted group'),\n",
       " Text(37.5, 0.5, 'Actual group'),\n",
       " Text(0.5, 1.0, 'Confusion matrix: logistic regression')]"
      ]
     },
     "execution_count": 25,
     "metadata": {},
     "output_type": "execute_result"
    },
    {
     "data": {
      "image/png": "[encoded data removed]",
      "text/plain": [
       "<Figure size 432x288 with 2 Axes>"
      ]
     },
     "metadata": {},
     "output_type": "display_data"
    }
   ],
   "source": [
    "# Confusion matrix\n",
    "cm_logit_sklean = confusion_matrix(y_test, y_test_pred_logit_sklearn, sample_weight=weights_test)\n",
    "fig, ax = plt.subplots()\n",
    "\n",
    "sns.heatmap(cm_logit_sklean,\n",
    "           annot=True,\n",
    "           fmt='.2f',\n",
    "           ax=ax)\n",
    "ax.set(xlabel='Predicted group',\n",
    "      ylabel='Actual group',\n",
    "      title='Confusion matrix: logistic regression')"
   ]
  },
  {
   "cell_type": "code",
   "execution_count": 26,
   "metadata": {
    "scrolled": false
   },
   "outputs": [
    {
     "data": {
      "text/plain": [
       "[<matplotlib.lines.Line2D at 0x12a92b450>]"
      ]
     },
     "execution_count": 26,
     "metadata": {},
     "output_type": "execute_result"
    },
    {
     "data": {
      "text/plain": [
       "[<matplotlib.lines.Line2D at 0x12a92b910>]"
      ]
     },
     "execution_count": 26,
     "metadata": {},
     "output_type": "execute_result"
    },
    {
     "data": {
      "text/plain": [
       "[]"
      ]
     },
     "execution_count": 26,
     "metadata": {},
     "output_type": "execute_result"
    },
    {
     "data": {
      "text/plain": [
       "[Text(0.5, 0, 'Recall'),\n",
       " Text(0, 0.5, 'Precision'),\n",
       " Text(0.5, 1.0, 'Precision Recall Curve for logistic regression')]"
      ]
     },
     "execution_count": 26,
     "metadata": {},
     "output_type": "execute_result"
    },
    {
     "data": {
      "image/png": "[encoded data removed]",
      "text/plain": [
       "<Figure size 432x288 with 1 Axes>"
      ]
     },
     "metadata": {},
     "output_type": "display_data"
    }
   ],
   "source": [
    "# PR curve\n",
    "precision_logit, recall_logit, threshold_pr_logit =  precision_recall_curve(y_test, y_test_prob_logit_sklearn, sample_weight=weights_test)\n",
    "\n",
    "fig, ax = plt.subplots()\n",
    "ax.plot(recall_logit, precision_logit)\n",
    "ax.plot([0,1], [np.average(y_test, weights=weights_test), np.average(y_test, weights=weights_test)],\n",
    "       color='grey',\n",
    "       linestyle='dashed')\n",
    "ax.plot()\n",
    "ax.set(xlabel='Recall',\n",
    "      ylabel='Precision',\n",
    "      title='Precision Recall Curve for logistic regression')"
   ]
  },
  {
   "cell_type": "code",
   "execution_count": 27,
   "metadata": {
    "scrolled": false
   },
   "outputs": [
    {
     "data": {
      "text/plain": [
       "[<matplotlib.lines.Line2D at 0x12a9b3d10>]"
      ]
     },
     "execution_count": 27,
     "metadata": {},
     "output_type": "execute_result"
    },
    {
     "data": {
      "text/plain": [
       "[<matplotlib.lines.Line2D at 0x12a9c61d0>]"
      ]
     },
     "execution_count": 27,
     "metadata": {},
     "output_type": "execute_result"
    },
    {
     "data": {
      "text/plain": [
       "Text(0.75, 0.05, 'AUC score: 0.709')"
      ]
     },
     "execution_count": 27,
     "metadata": {},
     "output_type": "execute_result"
    },
    {
     "data": {
      "text/plain": [
       "[Text(0.5, 0, 'False positive rate'),\n",
       " Text(0, 0.5, 'True positive rate'),\n",
       " Text(0.5, 1.0, 'ROC curve for logistic regression')]"
      ]
     },
     "execution_count": 27,
     "metadata": {},
     "output_type": "execute_result"
    },
    {
     "data": {
      "image/png": "[encoded data removed]",
      "text/plain": [
       "<Figure size 432x288 with 1 Axes>"
      ]
     },
     "metadata": {},
     "output_type": "display_data"
    }
   ],
   "source": [
    "# ROC curve\n",
    "fpr_logit, tpr_logit, thresholds_logit = roc_curve(y_test, y_test_prob_logit_sklearn, sample_weight=weights_test)\n",
    "roc_auc_logit = roc_auc_score(y_test, y_test_prob_logit_sklearn, sample_weight=weights_test)\n",
    "\n",
    "fig, ax = plt.subplots()\n",
    "ax.plot(fpr_logit, tpr_logit)\n",
    "ax.plot([0, 1], [0,1], linestyle='dashed', color='grey')\n",
    "ax.text(0.75, 0.05, f'AUC score: {round(roc_auc_logit, 3)}', transform=ax.transAxes)\n",
    "ax.set(xlabel='False positive rate',\n",
    "      ylabel='True positive rate',\n",
    "      title='ROC curve for logistic regression')"
   ]
  },
  {
   "cell_type": "code",
   "execution_count": 28,
   "metadata": {
    "scrolled": false
   },
   "outputs": [
    {
     "data": {
      "text/plain": [
       "C(employmenttype, Treatment(reference=\"5.0\"))[T.1.0]    0.520347\n",
       "census_division[T.6.0]                                  0.437640\n",
       "census_division[T.5.0]                                  0.359467\n",
       "census_division[T.9.0]                                  0.303661\n",
       "census_division[T.7.0]                                  0.249007\n",
       "education                                               0.229749\n",
       "census_division[T.8.0]                                  0.221872\n",
       "C(laborstatus, Treatment(reference=\"5.0\"))[T.6.0]       0.219883\n",
       "dc_adopt                                                0.218953\n",
       "log_assets_non_home_mkt_value                           0.217806\n",
       "cc_adopt                                                0.162155\n",
       "male                                                    0.154398\n",
       "race[T.4.0]                                             0.123756\n",
       "race[T.5.0]                                             0.078928\n",
       "age                                                    -0.504263\n",
       "dtype: float64"
      ]
     },
     "execution_count": 28,
     "metadata": {},
     "output_type": "execute_result"
    }
   ],
   "source": [
    "# Which coefficients are stat sig? Show in descneding order\n",
    "# Interpretation: An increase in 1 sd of the variable is associated in X increase in the log odds ratio\n",
    "coef_logit_statsmodel = fit_logit_statsmodel.params\n",
    "coef_logit_statsmodel.index = ['Intercept'] + cols_X_train\n",
    "pvalues_logit_statsmodel = fit_logit_statsmodel.pvalues\n",
    "pvalues_logit_statsmodel.index = ['Intercept'] + cols_X_train\n",
    "coef_logit_statsmodel[pvalues_logit_statsmodel < 0.05].sort_values(ascending=False)"
   ]
  },
  {
   "cell_type": "markdown",
   "metadata": {},
   "source": [
    "## With regularization"
   ]
  },
  {
   "cell_type": "code",
   "execution_count": 29,
   "metadata": {},
   "outputs": [],
   "source": [
    "# My own scorer function to take care of sample weighting in evaluation during GridSearchCV\n",
    "# By default, while I can train the model using sample weights, the scoring in GridSearchCV does not account for sample weights\n",
    "# Reference: https://stackoverflow.com/questions/49581104/sklearn-gridsearchcv-not-using-sample-weight-in-score-function\n",
    "# Note that this makes use of the index of outcome and weights\n",
    "def myScore(y_true, y_pred, sample_weight):\n",
    "    my_sample_weight = sample_weight.loc[y_true.index.values].values.reshape(-1)\n",
    "    return f1_score(y_true, y_pred, sample_weight=my_sample_weight)\n",
    "\n",
    "score_params = {'sample_weight': weights_train}\n",
    "\n",
    "my_scorer = make_scorer(myScore, greater_is_better=True, needs_proba=False, needs_threshold=False, **score_params)"
   ]
  },
  {
   "cell_type": "markdown",
   "metadata": {},
   "source": [
    "### Lasso\n",
    "\n",
    "- I use cross validation to pick the penalty parameter and class weight."
   ]
  },
  {
   "cell_type": "code",
   "execution_count": 30,
   "metadata": {},
   "outputs": [
    {
     "data": {
      "text/plain": [
       "GridSearchCV(cv=StratifiedKFold(n_splits=10, random_state=321, shuffle=True),\n",
       "             estimator=LogisticRegression(max_iter=1000, penalty='l1',\n",
       "                                          solver='liblinear'),\n",
       "             param_grid={'C': array([1.00000000e-04, 7.74263683e-04, 5.99484250e-03, 4.64158883e-02,\n",
       "       3.59381366e-01, 2.78255940e+00, 2.15443469e+01, 1.66810054e+02,\n",
       "       1.29154967e+03, 1.00000000e+04]),\n",
       "                         'class_weight': [{0: 0.0, 1...\n",
       "                                          {0: 0.2, 1: 0.8}, {0: 0.25, 1: 0.75},\n",
       "                                          {0: 0.30000000000000004, 1: 0.7},\n",
       "                                          {0: 0.35000000000000003,\n",
       "                                           1: 0.6499999999999999},\n",
       "                                          {0: 0.4, 1: 0.6}, {0: 0.45, 1: 0.55},\n",
       "                                          {0: 0.5, 1: 0.5}]},\n",
       "             scoring=make_scorer(myScore, sample_weight=1675    0.249987\n",
       "1524    0.488487\n",
       "28      0.311129\n",
       "1086    0.249972\n",
       "1508    0.249986\n",
       "          ...   \n",
       "2041    0.309968\n",
       "664     0.370692\n",
       "1318    0.249989\n",
       "723     0.481856\n",
       "2863    1.073858\n",
       "Name: r_weight, Length: 2451, dtype: float64))"
      ]
     },
     "execution_count": 30,
     "metadata": {},
     "output_type": "execute_result"
    }
   ],
   "source": [
    "grid_lasso = {\n",
    "    'C':np.logspace(-4, 4, 10),\n",
    "    'class_weight': [{0:x, 1:1-x} for x in np.arange(0.0, 0.51, 0.05)]\n",
    "}\n",
    "\n",
    "gs_logit_lasso = GridSearchCV(\n",
    "    LogisticRegression(\n",
    "        penalty='l1',\n",
    "        fit_intercept=True,\n",
    "        solver='liblinear',\n",
    "        max_iter=1000\n",
    "    ),\n",
    "    param_grid=grid_lasso,\n",
    "    scoring=my_scorer,\n",
    "    cv=StratifiedKFold(n_splits=10,shuffle=True,random_state=321)\n",
    ")\n",
    "\n",
    "gs_logit_lasso.fit(X_train_std, y_train, sample_weight=weights_train)"
   ]
  },
  {
   "cell_type": "code",
   "execution_count": 31,
   "metadata": {},
   "outputs": [
    {
     "name": "stdout",
     "output_type": "stream",
     "text": [
      "Best CV class_weights: {0: 0.2, 1: 0.8}\n"
     ]
    }
   ],
   "source": [
    "lasso_cv_class_weights = gs_logit_lasso.best_params_['class_weight']\n",
    "print(f'Best CV class_weights: {lasso_cv_class_weights}')\n",
    "lasso_cv_results_best_class_weights = gs_logit_lasso.cv_results_['mean_test_score'][[lasso_cv_class_weights == x for x in gs_logit_lasso.cv_results_['param_class_weight']]]"
   ]
  },
  {
   "cell_type": "code",
   "execution_count": 32,
   "metadata": {
    "scrolled": false
   },
   "outputs": [
    {
     "data": {
      "text/plain": [
       "<AxesSubplot:>"
      ]
     },
     "execution_count": 32,
     "metadata": {},
     "output_type": "execute_result"
    },
    {
     "data": {
      "text/plain": [
       "<matplotlib.lines.Line2D at 0x12aac7450>"
      ]
     },
     "execution_count": 32,
     "metadata": {},
     "output_type": "execute_result"
    },
    {
     "data": {
      "text/plain": [
       "[Text(0.5, 1.0, 'F1 score, class_weight: {0: 0.2, 1: 0.8}'),\n",
       " Text(0.5, 0, 'log(C)')]"
      ]
     },
     "execution_count": 32,
     "metadata": {},
     "output_type": "execute_result"
    },
    {
     "data": {
      "image/png": "[encoded data removed]",
      "text/plain": [
       "<Figure size 432x288 with 1 Axes>"
      ]
     },
     "metadata": {},
     "output_type": "display_data"
    }
   ],
   "source": [
    "# For the best class_weight, plot how F1 score varies with C\n",
    "fig, ax = plt.subplots()\n",
    "sns.lineplot(x=np.log(grid_lasso['C']),\n",
    "             y=lasso_cv_results_best_class_weights,\n",
    "             ax=ax)\n",
    "ax.axvline(x=np.log(gs_logit_lasso.best_params_['C']), linestyle='dashed')\n",
    "ax.set(title=f'F1 score, class_weight: {lasso_cv_class_weights}',\n",
    "      xlabel='log(C)')"
   ]
  },
  {
   "cell_type": "code",
   "execution_count": 33,
   "metadata": {},
   "outputs": [
    {
     "data": {
      "text/plain": [
       "array([[-0.08908996,  0.        , -0.09068048,  0.06087927,  0.20075248,\n",
       "         0.01319832,  0.03980956,  0.08702023,  0.        , -0.01504629,\n",
       "         0.09200694,  0.06362363,  0.05401498,  0.        , -0.03679426,\n",
       "        -0.04639514,  0.        ,  0.05081485,  0.04657705,  0.        ,\n",
       "         0.        ,  0.1521327 , -0.1312311 , -0.1432347 , -0.04002125,\n",
       "         0.1511146 , -0.03563511,  0.02196611, -0.45476439, -0.17515346,\n",
       "         0.20377593,  0.09002784, -0.00700928,  0.11540137,  0.21701363,\n",
       "         0.07272267,  0.        ,  0.        ,  0.22526043]])"
      ]
     },
     "execution_count": 33,
     "metadata": {},
     "output_type": "execute_result"
    }
   ],
   "source": [
    "gs_logit_lasso.best_estimator_.coef_"
   ]
  },
  {
   "cell_type": "code",
   "execution_count": 34,
   "metadata": {
    "scrolled": false
   },
   "outputs": [
    {
     "name": "stdout",
     "output_type": "stream",
     "text": [
      "Lasso non-zero coefficients\n"
     ]
    },
    {
     "data": {
      "text/html": [
       "<div>\n",
       "<style scoped>\n",
       "    .dataframe tbody tr th:only-of-type {\n",
       "        vertical-align: middle;\n",
       "    }\n",
       "\n",
       "    .dataframe tbody tr th {\n",
       "        vertical-align: top;\n",
       "    }\n",
       "\n",
       "    .dataframe thead th {\n",
       "        text-align: right;\n",
       "    }\n",
       "</style>\n",
       "<table border=\"1\" class=\"dataframe\">\n",
       "  <thead>\n",
       "    <tr style=\"text-align: right;\">\n",
       "      <th></th>\n",
       "      <th>Var</th>\n",
       "      <th>Coef</th>\n",
       "    </tr>\n",
       "  </thead>\n",
       "  <tbody>\n",
       "    <tr>\n",
       "      <th>39</th>\n",
       "      <td>log_assets_non_home_mkt_value</td>\n",
       "      <td>0.225260</td>\n",
       "    </tr>\n",
       "    <tr>\n",
       "      <th>35</th>\n",
       "      <td>dc_adopt</td>\n",
       "      <td>0.217014</td>\n",
       "    </tr>\n",
       "    <tr>\n",
       "      <th>31</th>\n",
       "      <td>education</td>\n",
       "      <td>0.203776</td>\n",
       "    </tr>\n",
       "    <tr>\n",
       "      <th>5</th>\n",
       "      <td>census_division[T.6.0]</td>\n",
       "      <td>0.200752</td>\n",
       "    </tr>\n",
       "    <tr>\n",
       "      <th>22</th>\n",
       "      <td>C(laborstatus, Treatment(reference=\"5.0\"))[T.1.0]</td>\n",
       "      <td>0.152133</td>\n",
       "    </tr>\n",
       "    <tr>\n",
       "      <th>26</th>\n",
       "      <td>C(laborstatus, Treatment(reference=\"5.0\"))[T.6.0]</td>\n",
       "      <td>0.151115</td>\n",
       "    </tr>\n",
       "    <tr>\n",
       "      <th>34</th>\n",
       "      <td>cc_adopt</td>\n",
       "      <td>0.115401</td>\n",
       "    </tr>\n",
       "    <tr>\n",
       "      <th>11</th>\n",
       "      <td>race[T.4.0]</td>\n",
       "      <td>0.092007</td>\n",
       "    </tr>\n",
       "    <tr>\n",
       "      <th>32</th>\n",
       "      <td>male</td>\n",
       "      <td>0.090028</td>\n",
       "    </tr>\n",
       "    <tr>\n",
       "      <th>8</th>\n",
       "      <td>census_division[T.9.0]</td>\n",
       "      <td>0.087020</td>\n",
       "    </tr>\n",
       "    <tr>\n",
       "      <th>36</th>\n",
       "      <td>log_hhincome</td>\n",
       "      <td>0.072723</td>\n",
       "    </tr>\n",
       "    <tr>\n",
       "      <th>12</th>\n",
       "      <td>race[T.5.0]</td>\n",
       "      <td>0.063624</td>\n",
       "    </tr>\n",
       "    <tr>\n",
       "      <th>4</th>\n",
       "      <td>census_division[T.5.0]</td>\n",
       "      <td>0.060879</td>\n",
       "    </tr>\n",
       "    <tr>\n",
       "      <th>13</th>\n",
       "      <td>race[T.6.0]</td>\n",
       "      <td>0.054015</td>\n",
       "    </tr>\n",
       "    <tr>\n",
       "      <th>18</th>\n",
       "      <td>C(employmenttype, Treatment(reference=\"5.0\"))[...</td>\n",
       "      <td>0.050815</td>\n",
       "    </tr>\n",
       "    <tr>\n",
       "      <th>19</th>\n",
       "      <td>C(employmenttype, Treatment(reference=\"5.0\"))[...</td>\n",
       "      <td>0.046577</td>\n",
       "    </tr>\n",
       "    <tr>\n",
       "      <th>7</th>\n",
       "      <td>census_division[T.8.0]</td>\n",
       "      <td>0.039810</td>\n",
       "    </tr>\n",
       "    <tr>\n",
       "      <th>28</th>\n",
       "      <td>C(laborstatus, Treatment(reference=\"5.0\"))[T.8.0]</td>\n",
       "      <td>0.021966</td>\n",
       "    </tr>\n",
       "    <tr>\n",
       "      <th>6</th>\n",
       "      <td>census_division[T.7.0]</td>\n",
       "      <td>0.013198</td>\n",
       "    </tr>\n",
       "    <tr>\n",
       "      <th>33</th>\n",
       "      <td>hourswork</td>\n",
       "      <td>-0.007009</td>\n",
       "    </tr>\n",
       "    <tr>\n",
       "      <th>10</th>\n",
       "      <td>race[T.3.0]</td>\n",
       "      <td>-0.015046</td>\n",
       "    </tr>\n",
       "    <tr>\n",
       "      <th>27</th>\n",
       "      <td>C(laborstatus, Treatment(reference=\"5.0\"))[T.7.0]</td>\n",
       "      <td>-0.035635</td>\n",
       "    </tr>\n",
       "    <tr>\n",
       "      <th>15</th>\n",
       "      <td>C(currentlivingsituation, Treatment(reference=...</td>\n",
       "      <td>-0.036794</td>\n",
       "    </tr>\n",
       "    <tr>\n",
       "      <th>25</th>\n",
       "      <td>C(laborstatus, Treatment(reference=\"5.0\"))[T.4.0]</td>\n",
       "      <td>-0.040021</td>\n",
       "    </tr>\n",
       "    <tr>\n",
       "      <th>16</th>\n",
       "      <td>C(currentlivingsituation, Treatment(reference=...</td>\n",
       "      <td>-0.046395</td>\n",
       "    </tr>\n",
       "    <tr>\n",
       "      <th>1</th>\n",
       "      <td>census_division[T.2.0]</td>\n",
       "      <td>-0.089090</td>\n",
       "    </tr>\n",
       "    <tr>\n",
       "      <th>3</th>\n",
       "      <td>census_division[T.4.0]</td>\n",
       "      <td>-0.090680</td>\n",
       "    </tr>\n",
       "    <tr>\n",
       "      <th>23</th>\n",
       "      <td>C(laborstatus, Treatment(reference=\"5.0\"))[T.2.0]</td>\n",
       "      <td>-0.131231</td>\n",
       "    </tr>\n",
       "    <tr>\n",
       "      <th>24</th>\n",
       "      <td>C(laborstatus, Treatment(reference=\"5.0\"))[T.3.0]</td>\n",
       "      <td>-0.143235</td>\n",
       "    </tr>\n",
       "    <tr>\n",
       "      <th>30</th>\n",
       "      <td>own_prim_home</td>\n",
       "      <td>-0.175153</td>\n",
       "    </tr>\n",
       "    <tr>\n",
       "      <th>29</th>\n",
       "      <td>age</td>\n",
       "      <td>-0.454764</td>\n",
       "    </tr>\n",
       "    <tr>\n",
       "      <th>0</th>\n",
       "      <td>Intercept</td>\n",
       "      <td>-0.813262</td>\n",
       "    </tr>\n",
       "  </tbody>\n",
       "</table>\n",
       "</div>"
      ],
      "text/plain": [
       "                                                  Var      Coef\n",
       "39                      log_assets_non_home_mkt_value  0.225260\n",
       "35                                           dc_adopt  0.217014\n",
       "31                                          education  0.203776\n",
       "5                              census_division[T.6.0]  0.200752\n",
       "22  C(laborstatus, Treatment(reference=\"5.0\"))[T.1.0]  0.152133\n",
       "26  C(laborstatus, Treatment(reference=\"5.0\"))[T.6.0]  0.151115\n",
       "34                                           cc_adopt  0.115401\n",
       "11                                        race[T.4.0]  0.092007\n",
       "32                                               male  0.090028\n",
       "8                              census_division[T.9.0]  0.087020\n",
       "36                                       log_hhincome  0.072723\n",
       "12                                        race[T.5.0]  0.063624\n",
       "4                              census_division[T.5.0]  0.060879\n",
       "13                                        race[T.6.0]  0.054015\n",
       "18  C(employmenttype, Treatment(reference=\"5.0\"))[...  0.050815\n",
       "19  C(employmenttype, Treatment(reference=\"5.0\"))[...  0.046577\n",
       "7                              census_division[T.8.0]  0.039810\n",
       "28  C(laborstatus, Treatment(reference=\"5.0\"))[T.8.0]  0.021966\n",
       "6                              census_division[T.7.0]  0.013198\n",
       "33                                          hourswork -0.007009\n",
       "10                                        race[T.3.0] -0.015046\n",
       "27  C(laborstatus, Treatment(reference=\"5.0\"))[T.7.0] -0.035635\n",
       "15  C(currentlivingsituation, Treatment(reference=... -0.036794\n",
       "25  C(laborstatus, Treatment(reference=\"5.0\"))[T.4.0] -0.040021\n",
       "16  C(currentlivingsituation, Treatment(reference=... -0.046395\n",
       "1                              census_division[T.2.0] -0.089090\n",
       "3                              census_division[T.4.0] -0.090680\n",
       "23  C(laborstatus, Treatment(reference=\"5.0\"))[T.2.0] -0.131231\n",
       "24  C(laborstatus, Treatment(reference=\"5.0\"))[T.3.0] -0.143235\n",
       "30                                      own_prim_home -0.175153\n",
       "29                                                age -0.454764\n",
       "0                                           Intercept -0.813262"
      ]
     },
     "execution_count": 34,
     "metadata": {},
     "output_type": "execute_result"
    }
   ],
   "source": [
    "# Show results of the best mode\n",
    "coef_logit_lasso = pd.DataFrame({\n",
    "    'Var': ['Intercept'] + cols_X_train,\n",
    "    'Coef': np.append(gs_logit_lasso.best_estimator_.intercept_,gs_logit_lasso.best_estimator_.coef_.tolist())})\n",
    "\n",
    "print('Lasso non-zero coefficients')\n",
    "coef_logit_lasso[coef_logit_lasso.Coef!= 0].sort_values(by='Coef', ascending=False)"
   ]
  },
  {
   "cell_type": "code",
   "execution_count": 35,
   "metadata": {
    "scrolled": false
   },
   "outputs": [],
   "source": [
    "# Get best estimator\n",
    "fit_logit_lasso_cv = gs_logit_lasso.best_estimator_"
   ]
  },
  {
   "cell_type": "markdown",
   "metadata": {},
   "source": [
    "### Ridge\n",
    "\n",
    "- I use cross validation to pick penalty parameter and class weight."
   ]
  },
  {
   "cell_type": "code",
   "execution_count": 36,
   "metadata": {
    "scrolled": false
   },
   "outputs": [
    {
     "data": {
      "text/plain": [
       "GridSearchCV(cv=StratifiedKFold(n_splits=10, random_state=321, shuffle=True),\n",
       "             estimator=LogisticRegression(class_weight={0: 1, 1: 10},\n",
       "                                          max_iter=1000, solver='liblinear'),\n",
       "             param_grid={'C': array([1.00000000e-04, 7.74263683e-04, 5.99484250e-03, 4.64158883e-02,\n",
       "       3.59381366e-01, 2.78255940e+00, 2.15443469e+01, 1.66810054e+02,\n",
       "       1.29154967e+03, 1.00000000e+04]),\n",
       "                         'class_weight...\n",
       "                                          {0: 0.2, 1: 0.8}, {0: 0.25, 1: 0.75},\n",
       "                                          {0: 0.30000000000000004, 1: 0.7},\n",
       "                                          {0: 0.35000000000000003,\n",
       "                                           1: 0.6499999999999999},\n",
       "                                          {0: 0.4, 1: 0.6}, {0: 0.45, 1: 0.55},\n",
       "                                          {0: 0.5, 1: 0.5}]},\n",
       "             scoring=make_scorer(myScore, sample_weight=1675    0.249987\n",
       "1524    0.488487\n",
       "28      0.311129\n",
       "1086    0.249972\n",
       "1508    0.249986\n",
       "          ...   \n",
       "2041    0.309968\n",
       "664     0.370692\n",
       "1318    0.249989\n",
       "723     0.481856\n",
       "2863    1.073858\n",
       "Name: r_weight, Length: 2451, dtype: float64))"
      ]
     },
     "execution_count": 36,
     "metadata": {},
     "output_type": "execute_result"
    }
   ],
   "source": [
    "grid_ridge = {\n",
    "    'C':np.logspace(-4, 4, 10),\n",
    "    'class_weight': [{0:x, 1:1-x} for x in np.arange(0.00, 0.55, 0.05)]\n",
    "}\n",
    "\n",
    "gs_logit_ridge = GridSearchCV(\n",
    "    LogisticRegression(\n",
    "        penalty='l2',\n",
    "        fit_intercept=True,\n",
    "        class_weight={0:1, 1:10},\n",
    "        solver='liblinear',\n",
    "        max_iter=1000\n",
    "    ),\n",
    "    param_grid=grid_ridge,\n",
    "    scoring=my_scorer,\n",
    "    cv=StratifiedKFold(n_splits=10,shuffle=True,random_state=321)\n",
    ")\n",
    "\n",
    "gs_logit_ridge.fit(X_train_std, y_train, sample_weight=weights_train)"
   ]
  },
  {
   "cell_type": "code",
   "execution_count": 37,
   "metadata": {},
   "outputs": [
    {
     "name": "stdout",
     "output_type": "stream",
     "text": [
      "Best CV class_weights: {0: 0.2, 1: 0.8}\n"
     ]
    }
   ],
   "source": [
    "ridge_cv_class_weights = gs_logit_ridge.best_params_['class_weight']\n",
    "print(f'Best CV class_weights: {ridge_cv_class_weights}')\n",
    "ridge_cv_results_best_class_weights = gs_logit_ridge.cv_results_['mean_test_score'][[ridge_cv_class_weights == x for x in gs_logit_ridge.cv_results_['param_class_weight']]]"
   ]
  },
  {
   "cell_type": "code",
   "execution_count": 38,
   "metadata": {
    "scrolled": false
   },
   "outputs": [
    {
     "data": {
      "text/plain": [
       "<AxesSubplot:>"
      ]
     },
     "execution_count": 38,
     "metadata": {},
     "output_type": "execute_result"
    },
    {
     "data": {
      "text/plain": [
       "<matplotlib.lines.Line2D at 0x12a9f6250>"
      ]
     },
     "execution_count": 38,
     "metadata": {},
     "output_type": "execute_result"
    },
    {
     "data": {
      "text/plain": [
       "[Text(0.5, 1.0, 'F1 score, class_weight={0: 0.2, 1: 0.8}'),\n",
       " Text(0.5, 0, 'log(C)')]"
      ]
     },
     "execution_count": 38,
     "metadata": {},
     "output_type": "execute_result"
    },
    {
     "data": {
      "image/png": "[encoded data removed]",
      "text/plain": [
       "<Figure size 432x288 with 1 Axes>"
      ]
     },
     "metadata": {},
     "output_type": "display_data"
    }
   ],
   "source": [
    "fig, ax = plt.subplots()\n",
    "sns.lineplot(x=np.log(grid_ridge['C']),\n",
    "             y=ridge_cv_results_best_class_weights,\n",
    "             ax=ax)\n",
    "ax.axvline(x=np.log(gs_logit_ridge.best_params_['C']), linestyle='dashed')\n",
    "ax.set(title=f'F1 score, class_weight={ridge_cv_class_weights}',\n",
    "      xlabel='log(C)')"
   ]
  },
  {
   "cell_type": "code",
   "execution_count": 39,
   "metadata": {
    "scrolled": false
   },
   "outputs": [
    {
     "data": {
      "text/html": [
       "<div>\n",
       "<style scoped>\n",
       "    .dataframe tbody tr th:only-of-type {\n",
       "        vertical-align: middle;\n",
       "    }\n",
       "\n",
       "    .dataframe tbody tr th {\n",
       "        vertical-align: top;\n",
       "    }\n",
       "\n",
       "    .dataframe thead th {\n",
       "        text-align: right;\n",
       "    }\n",
       "</style>\n",
       "<table border=\"1\" class=\"dataframe\">\n",
       "  <thead>\n",
       "    <tr style=\"text-align: right;\">\n",
       "      <th></th>\n",
       "      <th>Var</th>\n",
       "      <th>Coef</th>\n",
       "    </tr>\n",
       "  </thead>\n",
       "  <tbody>\n",
       "    <tr>\n",
       "      <th>5</th>\n",
       "      <td>census_division[T.6.0]</td>\n",
       "      <td>0.320508</td>\n",
       "    </tr>\n",
       "    <tr>\n",
       "      <th>19</th>\n",
       "      <td>C(employmenttype, Treatment(reference=\"5.0\"))[...</td>\n",
       "      <td>0.310881</td>\n",
       "    </tr>\n",
       "    <tr>\n",
       "      <th>39</th>\n",
       "      <td>log_assets_non_home_mkt_value</td>\n",
       "      <td>0.250163</td>\n",
       "    </tr>\n",
       "    <tr>\n",
       "      <th>4</th>\n",
       "      <td>census_division[T.5.0]</td>\n",
       "      <td>0.231790</td>\n",
       "    </tr>\n",
       "    <tr>\n",
       "      <th>18</th>\n",
       "      <td>C(employmenttype, Treatment(reference=\"5.0\"))[...</td>\n",
       "      <td>0.227142</td>\n",
       "    </tr>\n",
       "    <tr>\n",
       "      <th>35</th>\n",
       "      <td>dc_adopt</td>\n",
       "      <td>0.223681</td>\n",
       "    </tr>\n",
       "    <tr>\n",
       "      <th>31</th>\n",
       "      <td>education</td>\n",
       "      <td>0.223497</td>\n",
       "    </tr>\n",
       "    <tr>\n",
       "      <th>8</th>\n",
       "      <td>census_division[T.9.0]</td>\n",
       "      <td>0.208201</td>\n",
       "    </tr>\n",
       "    <tr>\n",
       "      <th>26</th>\n",
       "      <td>C(laborstatus, Treatment(reference=\"5.0\"))[T.6.0]</td>\n",
       "      <td>0.207852</td>\n",
       "    </tr>\n",
       "    <tr>\n",
       "      <th>20</th>\n",
       "      <td>C(employmenttype, Treatment(reference=\"5.0\"))[...</td>\n",
       "      <td>0.159276</td>\n",
       "    </tr>\n",
       "  </tbody>\n",
       "</table>\n",
       "</div>"
      ],
      "text/plain": [
       "                                                  Var      Coef\n",
       "5                              census_division[T.6.0]  0.320508\n",
       "19  C(employmenttype, Treatment(reference=\"5.0\"))[...  0.310881\n",
       "39                      log_assets_non_home_mkt_value  0.250163\n",
       "4                              census_division[T.5.0]  0.231790\n",
       "18  C(employmenttype, Treatment(reference=\"5.0\"))[...  0.227142\n",
       "35                                           dc_adopt  0.223681\n",
       "31                                          education  0.223497\n",
       "8                              census_division[T.9.0]  0.208201\n",
       "26  C(laborstatus, Treatment(reference=\"5.0\"))[T.6.0]  0.207852\n",
       "20  C(employmenttype, Treatment(reference=\"5.0\"))[...  0.159276"
      ]
     },
     "execution_count": 39,
     "metadata": {},
     "output_type": "execute_result"
    }
   ],
   "source": [
    "# Show results of the best mode\n",
    "coef_logit_ridge = pd.DataFrame({\n",
    "    'Var': ['Intercept'] + cols_X_train,\n",
    "    'Coef': np.append(gs_logit_ridge.best_estimator_.intercept_,gs_logit_ridge.best_estimator_.coef_.tolist())})\n",
    "\n",
    "coef_logit_ridge.sort_values(by='Coef', ascending=False).head(10)"
   ]
  },
  {
   "cell_type": "code",
   "execution_count": 40,
   "metadata": {
    "scrolled": false
   },
   "outputs": [],
   "source": [
    "# Get best estimator\n",
    "fit_logit_ridge_cv = gs_logit_ridge.best_estimator_"
   ]
  },
  {
   "cell_type": "code",
   "execution_count": null,
   "metadata": {
    "scrolled": false
   },
   "outputs": [],
   "source": []
  },
  {
   "cell_type": "markdown",
   "metadata": {},
   "source": [
    "### Comparison of performance"
   ]
  },
  {
   "cell_type": "markdown",
   "metadata": {},
   "source": [
    "#### Lasso"
   ]
  },
  {
   "cell_type": "code",
   "execution_count": 41,
   "metadata": {
    "scrolled": false
   },
   "outputs": [],
   "source": [
    "# Using the sklearn model\n",
    "y_train_pred_logit_lasso = fit_logit_lasso_cv.predict(X_train_std)\n",
    "y_test_pred_logit_lasso = fit_logit_lasso_cv.predict(X_test_std)\n",
    "\n",
    "y_train_prob_logit_lasso = fit_logit_lasso_cv.predict_proba(X_train_std)[:,1]\n",
    "y_test_prob_logit_lasso = fit_logit_lasso_cv.predict_proba(X_test_std)[:,1]"
   ]
  },
  {
   "cell_type": "code",
   "execution_count": 42,
   "metadata": {
    "scrolled": false
   },
   "outputs": [
    {
     "name": "stdout",
     "output_type": "stream",
     "text": [
      "Lasso's train data accuracy: 0.7573242892053856\n",
      "Lasso's test data accuracy: 0.7409159844536801\n"
     ]
    }
   ],
   "source": [
    "# Calculate the accuracy for training and test\n",
    "train_accuracy_lasso = fit_logit_lasso_cv.score(X_train_std, y_train, sample_weight=weights_train)\n",
    "test_accuracy_lasso = fit_logit_lasso_cv.score(X_test_std, y_test, sample_weight=weights_test)\n",
    "print(f\"Lasso's train data accuracy: {train_accuracy_lasso}\")\n",
    "print(f\"Lasso's test data accuracy: {test_accuracy_lasso}\")"
   ]
  },
  {
   "cell_type": "code",
   "execution_count": 43,
   "metadata": {
    "scrolled": false
   },
   "outputs": [
    {
     "name": "stdout",
     "output_type": "stream",
     "text": [
      "Lasso's test F1 score: 0.39468113388919135\n"
     ]
    }
   ],
   "source": [
    "# F1 score\n",
    "f1_lasso = f1_score(y_test, y_test_pred_logit_lasso, sample_weight=weights_test)\n",
    "print(f\"Lasso's test F1 score: {f1_lasso}\")"
   ]
  },
  {
   "cell_type": "code",
   "execution_count": 44,
   "metadata": {},
   "outputs": [
    {
     "name": "stdout",
     "output_type": "stream",
     "text": [
      "Lasso's precision: 0.3101822880986212\n",
      "Lasso's recall: 0.5424549356704857\n"
     ]
    }
   ],
   "source": [
    "precision_score_lasso = precision_score(y_test, y_test_pred_logit_lasso, sample_weight=weights_test)\n",
    "recall_score_lasso = recall_score(y_test, y_test_pred_logit_lasso, sample_weight=weights_test)\n",
    "print(f\"Lasso's precision: {precision_score_lasso}\")\n",
    "print(f\"Lasso's recall: {recall_score_lasso}\")"
   ]
  },
  {
   "cell_type": "code",
   "execution_count": 45,
   "metadata": {
    "scrolled": false
   },
   "outputs": [
    {
     "data": {
      "text/plain": [
       "<AxesSubplot:>"
      ]
     },
     "execution_count": 45,
     "metadata": {},
     "output_type": "execute_result"
    },
    {
     "data": {
      "text/plain": [
       "[Text(0.5, 19.5, 'Predicted group'),\n",
       " Text(37.5, 0.5, 'Actual group'),\n",
       " Text(0.5, 1.0, 'Confusion matrix: logistic regression (lasso)')]"
      ]
     },
     "execution_count": 45,
     "metadata": {},
     "output_type": "execute_result"
    },
    {
     "data": {
      "image/png": "[encoded data removed]",
      "text/plain": [
       "<Figure size 432x288 with 2 Axes>"
      ]
     },
     "metadata": {},
     "output_type": "display_data"
    }
   ],
   "source": [
    "# Confusion matrix\n",
    "cm_logit_lasso = confusion_matrix(y_test, y_test_pred_logit_lasso, sample_weight=weights_test)\n",
    "fig, ax = plt.subplots()\n",
    "\n",
    "sns.heatmap(cm_logit_lasso,\n",
    "           annot=True,\n",
    "           fmt='.2f',\n",
    "           ax=ax)\n",
    "ax.set(xlabel='Predicted group',\n",
    "      ylabel='Actual group',\n",
    "      title='Confusion matrix: logistic regression (lasso)')"
   ]
  },
  {
   "cell_type": "code",
   "execution_count": 46,
   "metadata": {
    "scrolled": false
   },
   "outputs": [
    {
     "data": {
      "text/plain": [
       "[<matplotlib.lines.Line2D at 0x12ac98dd0>]"
      ]
     },
     "execution_count": 46,
     "metadata": {},
     "output_type": "execute_result"
    },
    {
     "data": {
      "text/plain": [
       "[<matplotlib.lines.Line2D at 0x12aca9090>]"
      ]
     },
     "execution_count": 46,
     "metadata": {},
     "output_type": "execute_result"
    },
    {
     "data": {
      "text/plain": [
       "[]"
      ]
     },
     "execution_count": 46,
     "metadata": {},
     "output_type": "execute_result"
    },
    {
     "data": {
      "text/plain": [
       "[Text(0.5, 0, 'Recall'),\n",
       " Text(0, 0.5, 'Precision'),\n",
       " Text(0.5, 1.0, 'Precision Recall Curve for logistic regression (lasso)')]"
      ]
     },
     "execution_count": 46,
     "metadata": {},
     "output_type": "execute_result"
    },
    {
     "data": {
      "image/png": "[encoded data removed]",
      "text/plain": [
       "<Figure size 432x288 with 1 Axes>"
      ]
     },
     "metadata": {},
     "output_type": "display_data"
    }
   ],
   "source": [
    "# PR curve\n",
    "precision_logit_lasso, recall_logit_lasso, threshold_pr_logit_lasso =  precision_recall_curve(y_test, y_test_prob_logit_lasso, sample_weight=weights_test)\n",
    "\n",
    "fig, ax = plt.subplots()\n",
    "ax.plot(recall_logit_lasso, precision_logit_lasso)\n",
    "ax.plot([0,1], [np.average(y_test, weights=weights_test), np.average(y_test, weights=weights_test)],\n",
    "       color='grey',\n",
    "       linestyle='dashed')\n",
    "ax.plot()\n",
    "ax.set(xlabel='Recall',\n",
    "      ylabel='Precision',\n",
    "      title='Precision Recall Curve for logistic regression (lasso)')"
   ]
  },
  {
   "cell_type": "code",
   "execution_count": 47,
   "metadata": {
    "scrolled": false
   },
   "outputs": [
    {
     "data": {
      "text/plain": [
       "[<matplotlib.lines.Line2D at 0x12ad1f250>]"
      ]
     },
     "execution_count": 47,
     "metadata": {},
     "output_type": "execute_result"
    },
    {
     "data": {
      "text/plain": [
       "[<matplotlib.lines.Line2D at 0x12ad1f6d0>]"
      ]
     },
     "execution_count": 47,
     "metadata": {},
     "output_type": "execute_result"
    },
    {
     "data": {
      "text/plain": [
       "Text(0.75, 0.05, 'AUC score: 0.703')"
      ]
     },
     "execution_count": 47,
     "metadata": {},
     "output_type": "execute_result"
    },
    {
     "data": {
      "text/plain": [
       "[Text(0.5, 0, 'False positive rate'),\n",
       " Text(0, 0.5, 'True positive rate'),\n",
       " Text(0.5, 1.0, 'ROC curve for logistic regression (lasso)')]"
      ]
     },
     "execution_count": 47,
     "metadata": {},
     "output_type": "execute_result"
    },
    {
     "data": {
      "image/png": "[encoded data removed]",
      "text/plain": [
       "<Figure size 432x288 with 1 Axes>"
      ]
     },
     "metadata": {},
     "output_type": "display_data"
    }
   ],
   "source": [
    "# ROC curve\n",
    "fpr_logit_lasso, tpr_logit_lasso, thresholds_logit_lasso = roc_curve(y_test, y_test_prob_logit_lasso, sample_weight=weights_test)\n",
    "roc_auc_logit_lasso = roc_auc_score(y_test, y_test_prob_logit_lasso, sample_weight=weights_test)\n",
    "\n",
    "fig, ax = plt.subplots()\n",
    "ax.plot(fpr_logit_lasso, tpr_logit_lasso)\n",
    "ax.plot([0, 1], [0,1], linestyle='dashed', color='grey')\n",
    "ax.text(0.75, 0.05, f'AUC score: {round(roc_auc_logit_lasso, 3)}', transform=ax.transAxes)\n",
    "ax.set(xlabel='False positive rate',\n",
    "      ylabel='True positive rate',\n",
    "      title='ROC curve for logistic regression (lasso)')"
   ]
  },
  {
   "cell_type": "code",
   "execution_count": null,
   "metadata": {
    "scrolled": true
   },
   "outputs": [],
   "source": []
  },
  {
   "cell_type": "markdown",
   "metadata": {},
   "source": [
    "#### Ridge"
   ]
  },
  {
   "cell_type": "code",
   "execution_count": 48,
   "metadata": {
    "scrolled": false
   },
   "outputs": [],
   "source": [
    "# Using the sklearn model\n",
    "y_train_pred_logit_ridge = fit_logit_ridge_cv.predict(X_train_std)\n",
    "y_test_pred_logit_ridge = fit_logit_ridge_cv.predict(X_test_std)\n",
    "\n",
    "y_train_prob_logit_ridge = fit_logit_ridge_cv.predict_proba(X_train_std)[:,1]\n",
    "y_test_prob_logit_ridge = fit_logit_ridge_cv.predict_proba(X_test_std)[:,1]"
   ]
  },
  {
   "cell_type": "code",
   "execution_count": 49,
   "metadata": {
    "scrolled": false
   },
   "outputs": [
    {
     "name": "stdout",
     "output_type": "stream",
     "text": [
      "ridge's train data accuracy: 0.7619257428588017\n",
      "ridge's test data accuracy: 0.739532793735091\n"
     ]
    }
   ],
   "source": [
    "# Calculate the accuracy for training and test\n",
    "train_accuracy_ridge = fit_logit_ridge_cv.score(X_train_std, y_train, sample_weight=weights_train)\n",
    "test_accuracy_ridge = fit_logit_ridge_cv.score(X_test_std, y_test, sample_weight=weights_test)\n",
    "\n",
    "print(f\"ridge's train data accuracy: {train_accuracy_ridge}\")\n",
    "print(f\"ridge's test data accuracy: {test_accuracy_ridge}\")\n"
   ]
  },
  {
   "cell_type": "code",
   "execution_count": 50,
   "metadata": {
    "scrolled": false
   },
   "outputs": [
    {
     "name": "stdout",
     "output_type": "stream",
     "text": [
      "Ridge's test f1 score: 0.3998400462805083\n"
     ]
    }
   ],
   "source": [
    "# F1 score\n",
    "f1_ridge = f1_score(y_test, y_test_pred_logit_ridge, sample_weight=weights_test)\n",
    "print(f\"Ridge's test f1 score: {f1_ridge}\")"
   ]
  },
  {
   "cell_type": "code",
   "execution_count": 51,
   "metadata": {},
   "outputs": [
    {
     "name": "stdout",
     "output_type": "stream",
     "text": [
      "Ridge's precision: 0.31177863636431535\n",
      "Ridge's recall: 0.557228365344898\n"
     ]
    }
   ],
   "source": [
    "precision_score_ridge = precision_score(y_test, y_test_pred_logit_ridge, sample_weight=weights_test)\n",
    "recall_score_ridge = recall_score(y_test, y_test_pred_logit_ridge, sample_weight=weights_test)\n",
    "print(f\"Ridge's precision: {precision_score_ridge}\")\n",
    "print(f\"Ridge's recall: {recall_score_ridge}\")"
   ]
  },
  {
   "cell_type": "code",
   "execution_count": 52,
   "metadata": {
    "scrolled": false
   },
   "outputs": [
    {
     "data": {
      "text/plain": [
       "<AxesSubplot:>"
      ]
     },
     "execution_count": 52,
     "metadata": {},
     "output_type": "execute_result"
    },
    {
     "data": {
      "text/plain": [
       "[Text(0.5, 19.5, 'Predicted group'),\n",
       " Text(37.5, 0.5, 'Actual group'),\n",
       " Text(0.5, 1.0, 'Confusion matrix: logistic regression (ridge)')]"
      ]
     },
     "execution_count": 52,
     "metadata": {},
     "output_type": "execute_result"
    },
    {
     "data": {
      "image/png": "[encoded data removed]",
      "text/plain": [
       "<Figure size 432x288 with 2 Axes>"
      ]
     },
     "metadata": {},
     "output_type": "display_data"
    }
   ],
   "source": [
    "# Confusion matrix\n",
    "cm_logit_ridge = confusion_matrix(y_test, y_test_pred_logit_ridge, sample_weight=weights_test)\n",
    "fig, ax = plt.subplots()\n",
    "\n",
    "sns.heatmap(cm_logit_ridge,\n",
    "           annot=True,\n",
    "           fmt='.2f',\n",
    "           ax=ax)\n",
    "ax.set(xlabel='Predicted group',\n",
    "      ylabel='Actual group',\n",
    "      title='Confusion matrix: logistic regression (ridge)')"
   ]
  },
  {
   "cell_type": "code",
   "execution_count": 53,
   "metadata": {
    "scrolled": false
   },
   "outputs": [
    {
     "data": {
      "text/plain": [
       "[<matplotlib.lines.Line2D at 0x12ae5d9d0>]"
      ]
     },
     "execution_count": 53,
     "metadata": {},
     "output_type": "execute_result"
    },
    {
     "data": {
      "text/plain": [
       "[<matplotlib.lines.Line2D at 0x12ae5de90>]"
      ]
     },
     "execution_count": 53,
     "metadata": {},
     "output_type": "execute_result"
    },
    {
     "data": {
      "text/plain": [
       "[]"
      ]
     },
     "execution_count": 53,
     "metadata": {},
     "output_type": "execute_result"
    },
    {
     "data": {
      "text/plain": [
       "[Text(0.5, 0, 'Recall'),\n",
       " Text(0, 0.5, 'Precision'),\n",
       " Text(0.5, 1.0, 'Precision Recall Curve for logistic regression (ridge)')]"
      ]
     },
     "execution_count": 53,
     "metadata": {},
     "output_type": "execute_result"
    },
    {
     "data": {
      "image/png": "[encoded data removed]",
      "text/plain": [
       "<Figure size 432x288 with 1 Axes>"
      ]
     },
     "metadata": {},
     "output_type": "display_data"
    }
   ],
   "source": [
    "# PR curve\n",
    "precision_logit_ridge, recall_logit_ridge, threshold_pr_logit_ridge =  precision_recall_curve(y_test, y_test_prob_logit_ridge, sample_weight=weights_test)\n",
    "\n",
    "fig, ax = plt.subplots()\n",
    "ax.plot(recall_logit_ridge, precision_logit_ridge)\n",
    "ax.plot([0,1], [np.average(y_test, weights=weights_test), np.average(y_test, weights=weights_test)],\n",
    "       color='grey',\n",
    "       linestyle='dashed')\n",
    "ax.plot()\n",
    "ax.set(xlabel='Recall',\n",
    "      ylabel='Precision',\n",
    "      title='Precision Recall Curve for logistic regression (ridge)')"
   ]
  },
  {
   "cell_type": "code",
   "execution_count": 54,
   "metadata": {
    "scrolled": false
   },
   "outputs": [
    {
     "data": {
      "text/plain": [
       "[<matplotlib.lines.Line2D at 0x12aed4ed0>]"
      ]
     },
     "execution_count": 54,
     "metadata": {},
     "output_type": "execute_result"
    },
    {
     "data": {
      "text/plain": [
       "[<matplotlib.lines.Line2D at 0x12aee1390>]"
      ]
     },
     "execution_count": 54,
     "metadata": {},
     "output_type": "execute_result"
    },
    {
     "data": {
      "text/plain": [
       "Text(0.75, 0.05, 'AUC score: 0.707')"
      ]
     },
     "execution_count": 54,
     "metadata": {},
     "output_type": "execute_result"
    },
    {
     "data": {
      "text/plain": [
       "[Text(0.5, 0, 'False positive rate'),\n",
       " Text(0, 0.5, 'True positive rate'),\n",
       " Text(0.5, 1.0, 'ROC curve for logistic regression (ridge)')]"
      ]
     },
     "execution_count": 54,
     "metadata": {},
     "output_type": "execute_result"
    },
    {
     "data": {
      "image/png": "[encoded data removed]",
      "text/plain": [
       "<Figure size 432x288 with 1 Axes>"
      ]
     },
     "metadata": {},
     "output_type": "display_data"
    }
   ],
   "source": [
    "# ROC curve\n",
    "fpr_logit_ridge, tpr_logit_ridge, thresholds_logit_ridge = roc_curve(y_test, y_test_prob_logit_ridge, sample_weight=weights_test)\n",
    "roc_auc_logit_ridge = roc_auc_score(y_test, y_test_prob_logit_ridge, sample_weight=weights_test)\n",
    "\n",
    "fig, ax = plt.subplots()\n",
    "ax.plot(fpr_logit_ridge, tpr_logit_ridge)\n",
    "ax.plot([0, 1], [0,1], linestyle='dashed', color='grey')\n",
    "ax.text(0.75, 0.05, f'AUC score: {round(roc_auc_logit_ridge, 3)}', transform=ax.transAxes)\n",
    "ax.set(xlabel='False positive rate',\n",
    "      ylabel='True positive rate',\n",
    "      title='ROC curve for logistic regression (ridge)')"
   ]
  },
  {
   "cell_type": "markdown",
   "metadata": {},
   "source": [
    "# Random Forest\n",
    "\n",
    "- I use cross validation to pick the maximum depth of each tree and class weight."
   ]
  },
  {
   "cell_type": "code",
   "execution_count": 55,
   "metadata": {},
   "outputs": [
    {
     "data": {
      "text/plain": [
       "GridSearchCV(cv=StratifiedKFold(n_splits=10, random_state=321, shuffle=True),\n",
       "             estimator=RandomForestClassifier(n_estimators=500,\n",
       "                                              random_state=123),\n",
       "             param_grid={'class_weight': [{0: 0.0, 1: 1.0}, {0: 0.05, 1: 0.95},\n",
       "                                          {0: 0.1, 1: 0.9},\n",
       "                                          {0: 0.15000000000000002, 1: 0.85},\n",
       "                                          {0: 0.2, 1: 0.8}, {0: 0.25, 1: 0.75},\n",
       "                                          {0: 0.30000000000000004, 1: 0.7},\n",
       "                                          {0: 0.35000000000000003,\n",
       "                                           1: 0.6499999999999999},\n",
       "                                          {0: 0.4, 1: 0.6}, {0: 0.45, 1: 0.55},\n",
       "                                          {0: 0.5, 1: 0.5}],\n",
       "                         'max_depth': [3, 4, 5, 6, 7, 8, 9]},\n",
       "             scoring=make_scorer(myScore, sample_weight=1675    0.249987\n",
       "1524    0.488487\n",
       "28      0.311129\n",
       "1086    0.249972\n",
       "1508    0.249986\n",
       "          ...   \n",
       "2041    0.309968\n",
       "664     0.370692\n",
       "1318    0.249989\n",
       "723     0.481856\n",
       "2863    1.073858\n",
       "Name: r_weight, Length: 2451, dtype: float64))"
      ]
     },
     "execution_count": 55,
     "metadata": {},
     "output_type": "execute_result"
    }
   ],
   "source": [
    "grid_rf = {\n",
    "    'max_depth': list(range(3, 10)),\n",
    "    'class_weight': [{0:x, 1:1-x} for x in np.arange(0.0, 0.51, 0.05)]\n",
    "}\n",
    "\n",
    "gs_rf = GridSearchCV(\n",
    "    RandomForestClassifier(\n",
    "        n_estimators=500,\n",
    "        criterion='gini',\n",
    "        max_features='auto',\n",
    "        bootstrap=True,\n",
    "        random_state=123\n",
    "    ),\n",
    "    param_grid=grid_rf,\n",
    "    scoring=my_scorer,\n",
    "    cv=StratifiedKFold(n_splits=10,shuffle=True,random_state=321)\n",
    ")\n",
    "\n",
    "gs_rf.fit(X_train, y_train, sample_weight=weights_train)"
   ]
  },
  {
   "cell_type": "code",
   "execution_count": 56,
   "metadata": {},
   "outputs": [
    {
     "name": "stdout",
     "output_type": "stream",
     "text": [
      "Best CV class_weights: {0: 0.1, 1: 0.9}\n"
     ]
    }
   ],
   "source": [
    "rf_cv_class_weights = gs_rf.best_params_['class_weight']\n",
    "print(f'Best CV class_weights: {rf_cv_class_weights}')\n",
    "rf_cv_results_best_class_weights = gs_rf.cv_results_['mean_test_score'][[rf_cv_class_weights == x for x in gs_rf.cv_results_['param_class_weight']]]"
   ]
  },
  {
   "cell_type": "code",
   "execution_count": 57,
   "metadata": {},
   "outputs": [
    {
     "name": "stdout",
     "output_type": "stream",
     "text": [
      "Parameters picked by CV\n"
     ]
    },
    {
     "data": {
      "text/plain": [
       "{'class_weight': {0: 0.1, 1: 0.9}, 'max_depth': 5}"
      ]
     },
     "execution_count": 57,
     "metadata": {},
     "output_type": "execute_result"
    }
   ],
   "source": [
    "print('Parameters picked by CV')\n",
    "gs_rf.best_params_"
   ]
  },
  {
   "cell_type": "code",
   "execution_count": 58,
   "metadata": {
    "scrolled": false
   },
   "outputs": [
    {
     "data": {
      "text/plain": [
       "<AxesSubplot:>"
      ]
     },
     "execution_count": 58,
     "metadata": {},
     "output_type": "execute_result"
    },
    {
     "data": {
      "text/plain": [
       "<matplotlib.lines.Line2D at 0x12afc1190>"
      ]
     },
     "execution_count": 58,
     "metadata": {},
     "output_type": "execute_result"
    },
    {
     "data": {
      "text/plain": [
       "[Text(0.5, 1.0, 'F1 score, class_weight: {0: 0.1, 1: 0.9}'),\n",
       " Text(0.5, 0, 'max_depth')]"
      ]
     },
     "execution_count": 58,
     "metadata": {},
     "output_type": "execute_result"
    },
    {
     "data": {
      "image/png": "[encoded data removed]",
      "text/plain": [
       "<Figure size 432x288 with 1 Axes>"
      ]
     },
     "metadata": {},
     "output_type": "display_data"
    }
   ],
   "source": [
    "# For the best class_weight, plot how F1 score varies with C\n",
    "fig, ax = plt.subplots()\n",
    "sns.lineplot(x=list(range(3, 10)),\n",
    "             y=rf_cv_results_best_class_weights,\n",
    "             ax=ax)\n",
    "ax.axvline(x=gs_rf.best_params_['max_depth'], linestyle='dashed')\n",
    "ax.set(title=f'F1 score, class_weight: {rf_cv_class_weights}',\n",
    "      xlabel='max_depth')"
   ]
  },
  {
   "cell_type": "code",
   "execution_count": 59,
   "metadata": {},
   "outputs": [],
   "source": [
    "# Get best estimator\n",
    "fit_rf = gs_rf.best_estimator_"
   ]
  },
  {
   "cell_type": "code",
   "execution_count": 60,
   "metadata": {
    "scrolled": false
   },
   "outputs": [
    {
     "data": {
      "text/plain": [
       "<BarContainer object of 10 artists>"
      ]
     },
     "execution_count": 60,
     "metadata": {},
     "output_type": "execute_result"
    },
    {
     "data": {
      "text/plain": [
       "[Text(0.5, 0, 'Mean decrease in impurity'),\n",
       " Text(0, 0.5, 'Features'),\n",
       " Text(0.5, 1.0, 'Feature importances for top 10 features - Random Forest')]"
      ]
     },
     "execution_count": 60,
     "metadata": {},
     "output_type": "execute_result"
    },
    {
     "data": {
      "image/png": "[encoded data removed]",
      "text/plain": [
       "<Figure size 576x576 with 1 Axes>"
      ]
     },
     "metadata": {},
     "output_type": "display_data"
    }
   ],
   "source": [
    "# Look at feature importances\n",
    "# Would be nice to have a plot here!\n",
    "feature_importances_rf = pd.DataFrame({\n",
    "    'Var': cols_X_train,\n",
    "    'Importance': fit_rf.feature_importances_})\\\n",
    "    .sort_values(by='Importance')\n",
    "\n",
    "# feature_importances_rf\n",
    "\n",
    "fig, ax = plt.subplots(figsize=(8,8))\n",
    "ax.barh(y='Var',\n",
    "       width='Importance',\n",
    "       data=feature_importances_rf.tail(10))\n",
    "ax.set(xlabel='Mean decrease in impurity',\n",
    "      ylabel='Features',\n",
    "      title=\"Feature importances for top 10 features - Random Forest\")"
   ]
  },
  {
   "cell_type": "markdown",
   "metadata": {},
   "source": [
    "## Performance evaluation"
   ]
  },
  {
   "cell_type": "code",
   "execution_count": 61,
   "metadata": {
    "scrolled": false
   },
   "outputs": [],
   "source": [
    "# Using the sklearn model\n",
    "y_train_pred_rf = fit_rf.predict(X_train)\n",
    "y_test_pred_rf = fit_rf.predict(X_test)\n",
    "\n",
    "y_train_prob_rf = fit_rf.predict_proba(X_train)[:,1]\n",
    "y_test_prob_rf = fit_rf.predict_proba(X_test)[:,1]"
   ]
  },
  {
   "cell_type": "code",
   "execution_count": 62,
   "metadata": {
    "scrolled": false
   },
   "outputs": [
    {
     "name": "stdout",
     "output_type": "stream",
     "text": [
      "Random Forest's train data accuracy: 0.6370731558381529\n",
      "Random Forest's test data accuracy: 0.609861592644565\n"
     ]
    }
   ],
   "source": [
    "# Calculate the accuracy for training and test\n",
    "train_accuracy_rf = fit_rf.score(X_train, y_train, sample_weight=weights_train)\n",
    "test_accuracy_rf = fit_rf.score(X_test, y_test, sample_weight=weights_test)\n",
    "\n",
    "print(f\"Random Forest's train data accuracy: {train_accuracy_rf}\")\n",
    "print(f\"Random Forest's test data accuracy: {test_accuracy_rf}\")\n"
   ]
  },
  {
   "cell_type": "code",
   "execution_count": 63,
   "metadata": {
    "scrolled": false
   },
   "outputs": [
    {
     "name": "stdout",
     "output_type": "stream",
     "text": [
      "Random Forest's f1 score: 0.3610261255883877\n"
     ]
    }
   ],
   "source": [
    "# F1 score\n",
    "f1_rf = f1_score(y_test, y_test_pred_rf, sample_weight=weights_test)\n",
    "print(f\"Random Forest's f1 score: {f1_rf}\")"
   ]
  },
  {
   "cell_type": "code",
   "execution_count": 64,
   "metadata": {},
   "outputs": [
    {
     "name": "stdout",
     "output_type": "stream",
     "text": [
      "Random Forest's precision: 0.24230577850993673\n",
      "Random Forest's recall: 0.7078400375340165\n"
     ]
    }
   ],
   "source": [
    "precision_score_rf = precision_score(y_test, y_test_pred_rf, sample_weight=weights_test)\n",
    "recall_score_rf = recall_score(y_test, y_test_pred_rf, sample_weight=weights_test)\n",
    "\n",
    "print(f\"Random Forest's precision: {precision_score_rf}\")\n",
    "print(f\"Random Forest's recall: {recall_score_rf}\")"
   ]
  },
  {
   "cell_type": "code",
   "execution_count": 65,
   "metadata": {
    "scrolled": false
   },
   "outputs": [
    {
     "data": {
      "text/plain": [
       "<AxesSubplot:>"
      ]
     },
     "execution_count": 65,
     "metadata": {},
     "output_type": "execute_result"
    },
    {
     "data": {
      "text/plain": [
       "[Text(0.5, 19.5, 'Predicted group'),\n",
       " Text(37.5, 0.5, 'Actual group'),\n",
       " Text(0.5, 1.0, 'Confusion matrix: logistic regression (ridge)')]"
      ]
     },
     "execution_count": 65,
     "metadata": {},
     "output_type": "execute_result"
    },
    {
     "data": {
      "image/png": "[encoded data removed]",
      "text/plain": [
       "<Figure size 432x288 with 2 Axes>"
      ]
     },
     "metadata": {},
     "output_type": "display_data"
    }
   ],
   "source": [
    "# Confusion matrix\n",
    "cm_rf = confusion_matrix(y_test, y_test_pred_rf, sample_weight=weights_test)\n",
    "fig, ax = plt.subplots()\n",
    "\n",
    "sns.heatmap(cm_rf,\n",
    "           annot=True,\n",
    "           fmt='.2f',\n",
    "           ax=ax)\n",
    "ax.set(xlabel='Predicted group',\n",
    "      ylabel='Actual group',\n",
    "      title='Confusion matrix: logistic regression (ridge)')"
   ]
  },
  {
   "cell_type": "code",
   "execution_count": 66,
   "metadata": {
    "scrolled": false
   },
   "outputs": [
    {
     "data": {
      "text/plain": [
       "[<matplotlib.lines.Line2D at 0x12b1a44d0>]"
      ]
     },
     "execution_count": 66,
     "metadata": {},
     "output_type": "execute_result"
    },
    {
     "data": {
      "text/plain": [
       "[<matplotlib.lines.Line2D at 0x12b1a4a50>]"
      ]
     },
     "execution_count": 66,
     "metadata": {},
     "output_type": "execute_result"
    },
    {
     "data": {
      "text/plain": [
       "[]"
      ]
     },
     "execution_count": 66,
     "metadata": {},
     "output_type": "execute_result"
    },
    {
     "data": {
      "text/plain": [
       "[Text(0.5, 0, 'Recall'),\n",
       " Text(0, 0.5, 'Precision'),\n",
       " Text(0.5, 1.0, 'Precision Recall Curve for Random Forest')]"
      ]
     },
     "execution_count": 66,
     "metadata": {},
     "output_type": "execute_result"
    },
    {
     "data": {
      "image/png": "[encoded data removed]",
      "text/plain": [
       "<Figure size 432x288 with 1 Axes>"
      ]
     },
     "metadata": {},
     "output_type": "display_data"
    }
   ],
   "source": [
    "# PR curve\n",
    "precision_rf, recall_rf, threshold_pr_rf =  precision_recall_curve(y_test, y_test_prob_rf, sample_weight=weights_test)\n",
    "\n",
    "fig, ax = plt.subplots()\n",
    "ax.plot(recall_rf, precision_rf)\n",
    "ax.plot([0,1], [np.average(y_test, weights=weights_test), np.average(y_test, weights=weights_test)],\n",
    "       color='grey',\n",
    "       linestyle='dashed')\n",
    "ax.plot()\n",
    "ax.set(xlabel='Recall',\n",
    "      ylabel='Precision',\n",
    "      title='Precision Recall Curve for Random Forest')"
   ]
  },
  {
   "cell_type": "code",
   "execution_count": 67,
   "metadata": {
    "scrolled": false
   },
   "outputs": [
    {
     "data": {
      "text/plain": [
       "[<matplotlib.lines.Line2D at 0x12b21aa90>]"
      ]
     },
     "execution_count": 67,
     "metadata": {},
     "output_type": "execute_result"
    },
    {
     "data": {
      "text/plain": [
       "[<matplotlib.lines.Line2D at 0x12b21af50>]"
      ]
     },
     "execution_count": 67,
     "metadata": {},
     "output_type": "execute_result"
    },
    {
     "data": {
      "text/plain": [
       "Text(0.75, 0.05, 'AUC score: 0.726')"
      ]
     },
     "execution_count": 67,
     "metadata": {},
     "output_type": "execute_result"
    },
    {
     "data": {
      "text/plain": [
       "[Text(0.5, 0, 'False positive rate'),\n",
       " Text(0, 0.5, 'True positive rate'),\n",
       " Text(0.5, 1.0, 'ROC curve for Random Forest')]"
      ]
     },
     "execution_count": 67,
     "metadata": {},
     "output_type": "execute_result"
    },
    {
     "data": {
      "image/png": "[encoded data removed]",
      "text/plain": [
       "<Figure size 432x288 with 1 Axes>"
      ]
     },
     "metadata": {},
     "output_type": "display_data"
    }
   ],
   "source": [
    "# ROC curve\n",
    "fpr_rf, tpr_rf, thresholds_rf = roc_curve(y_test, y_test_prob_rf, sample_weight=weights_test)\n",
    "roc_auc_rf = roc_auc_score(y_test, y_test_prob_rf, sample_weight=weights_test)\n",
    "\n",
    "fig, ax = plt.subplots()\n",
    "ax.plot(fpr_rf, tpr_rf)\n",
    "ax.plot([0, 1], [0,1], linestyle='dashed', color='grey')\n",
    "ax.text(0.75, 0.05, f'AUC score: {round(roc_auc_rf, 3)}', transform=ax.transAxes)\n",
    "ax.set(xlabel='False positive rate',\n",
    "      ylabel='True positive rate',\n",
    "      title='ROC curve for Random Forest')"
   ]
  },
  {
   "cell_type": "markdown",
   "metadata": {},
   "source": [
    "# XGBoost\n",
    "\n",
    "- I use cross validation to pick the nubmer of estiamtor, learning rate, depth of each tree, subsample rate and class weight."
   ]
  },
  {
   "cell_type": "code",
   "execution_count": 68,
   "metadata": {
    "scrolled": true
   },
   "outputs": [
    {
     "data": {
      "text/plain": [
       "GridSearchCV(cv=StratifiedKFold(n_splits=10, random_state=321, shuffle=True),\n",
       "             estimator=XGBClassifier(base_score=None, booster=None,\n",
       "                                     colsample_bylevel=None,\n",
       "                                     colsample_bynode=None,\n",
       "                                     colsample_bytree=None, gamma=None,\n",
       "                                     gpu_id=None, importance_type='gain',\n",
       "                                     interaction_constraints=None,\n",
       "                                     learning_rate=None, max_delta_step=None,\n",
       "                                     max_depth=None, min_child_weight=None,\n",
       "                                     miss...\n",
       "             param_grid={'learning_rate': [0.01, 0.05], 'max_depth': [1, 3, 6],\n",
       "                         'n_estimators': array([100, 150, 200, 250, 300, 350, 400, 450, 500]),\n",
       "                         'scale_pos_weight': array([ 1,  5,  9, 13, 17]),\n",
       "                         'subsample': [0.8, 1]},\n",
       "             scoring=make_scorer(myScore, sample_weight=1675    0.249987\n",
       "1524    0.488487\n",
       "28      0.311129\n",
       "1086    0.249972\n",
       "1508    0.249986\n",
       "          ...   \n",
       "2041    0.309968\n",
       "664     0.370692\n",
       "1318    0.249989\n",
       "723     0.481856\n",
       "2863    1.073858\n",
       "Name: r_weight, Length: 2451, dtype: float64))"
      ]
     },
     "execution_count": 68,
     "metadata": {},
     "output_type": "execute_result"
    }
   ],
   "source": [
    "# Grid serach version\n",
    "grid_xgb = {\n",
    "    'n_estimators': np.arange(100, 501, 50),\n",
    "    'learning_rate': [0.01, 0.05],\n",
    "    'max_depth': [1, 3, 6],\n",
    "    'subsample': [0.8, 1],\n",
    "    'scale_pos_weight': np.arange(1, 21, 4)\n",
    "}\n",
    "\n",
    "gs_xgb = GridSearchCV(\n",
    "    XGBClassifier(\n",
    "        random_state=123,\n",
    "        use_label_encoder=False\n",
    "    ),\n",
    "    param_grid=grid_xgb,\n",
    "    scoring=my_scorer,\n",
    "    cv=StratifiedKFold(n_splits=10,shuffle=True,random_state=321)\n",
    ")\n",
    "\n",
    "gs_xgb.fit(X_train,\n",
    "            y_train,\n",
    "            sample_weight=weights_train,\n",
    "          verbose=False,\n",
    "           eval_metric=['logloss'])"
   ]
  },
  {
   "cell_type": "code",
   "execution_count": 69,
   "metadata": {},
   "outputs": [
    {
     "name": "stdout",
     "output_type": "stream",
     "text": [
      "Parameters picked  by CV\n"
     ]
    },
    {
     "data": {
      "text/plain": [
       "{'learning_rate': 0.01,\n",
       " 'max_depth': 3,\n",
       " 'n_estimators': 400,\n",
       " 'scale_pos_weight': 5,\n",
       " 'subsample': 0.8}"
      ]
     },
     "execution_count": 69,
     "metadata": {},
     "output_type": "execute_result"
    },
    {
     "data": {
      "text/plain": [
       "0.3427056219631298"
      ]
     },
     "execution_count": 69,
     "metadata": {},
     "output_type": "execute_result"
    }
   ],
   "source": [
    "print('Parameters picked  by CV')\n",
    "gs_xgb.best_params_\n",
    "gs_xgb.best_score_"
   ]
  },
  {
   "cell_type": "code",
   "execution_count": 70,
   "metadata": {
    "scrolled": true
   },
   "outputs": [],
   "source": [
    "fit_xgb = gs_xgb.best_estimator_"
   ]
  },
  {
   "cell_type": "code",
   "execution_count": 71,
   "metadata": {},
   "outputs": [
    {
     "data": {
      "text/plain": [
       "<BarContainer object of 10 artists>"
      ]
     },
     "execution_count": 71,
     "metadata": {},
     "output_type": "execute_result"
    },
    {
     "data": {
      "text/plain": [
       "[Text(0.5, 0, 'Feature importance'),\n",
       " Text(0, 0.5, 'Features'),\n",
       " Text(0.5, 1.0, 'Feature importance for top 10 features - XGBoost')]"
      ]
     },
     "execution_count": 71,
     "metadata": {},
     "output_type": "execute_result"
    },
    {
     "data": {
      "image/png": "[encoded data removed]",
      "text/plain": [
       "<Figure size 576x576 with 1 Axes>"
      ]
     },
     "metadata": {},
     "output_type": "display_data"
    }
   ],
   "source": [
    "feature_importances_xgb = pd.DataFrame({\n",
    "    'Var': cols_X_train,\n",
    "    'Importance': fit_xgb.feature_importances_}) \\\n",
    "    .sort_values(by='Importance')\n",
    "\n",
    "fig, ax = plt.subplots(figsize=(8,8))\n",
    "ax.barh(y='Var',\n",
    "       width='Importance',\n",
    "       data=feature_importances_xgb.tail(10))\n",
    "ax.set(xlabel='Feature importance',\n",
    "      ylabel='Features',\n",
    "      title='Feature importance for top 10 features - XGBoost')"
   ]
  },
  {
   "cell_type": "markdown",
   "metadata": {},
   "source": [
    "## Evaluation of performance"
   ]
  },
  {
   "cell_type": "code",
   "execution_count": 72,
   "metadata": {
    "scrolled": false
   },
   "outputs": [],
   "source": [
    "# Using the sklearn model\n",
    "y_train_pred_xgb = fit_xgb.predict(X_train)\n",
    "y_test_pred_xgb = fit_xgb.predict(X_test)\n",
    "\n",
    "y_train_prob_xgb = fit_xgb.predict_proba(X_train)[:,1]\n",
    "y_test_prob_xgb = fit_xgb.predict_proba(X_test)[:,1]"
   ]
  },
  {
   "cell_type": "code",
   "execution_count": 73,
   "metadata": {
    "scrolled": false
   },
   "outputs": [
    {
     "name": "stdout",
     "output_type": "stream",
     "text": [
      "XGBoost's train data accuracy: 0.8044417988930767\n",
      "XGBoost's test data accuracy: 0.7423921563422725\n"
     ]
    }
   ],
   "source": [
    "# Calculate the accuracy for training and test\n",
    "train_accuracy_xgb = np.average(y_train_pred_xgb == y_train, weights=weights_train)\n",
    "test_accuracy_xgb = np.average(y_test_pred_xgb == y_test, weights=weights_test)\n",
    "\n",
    "print(f\"XGBoost's train data accuracy: {train_accuracy_xgb}\")\n",
    "print(f\"XGBoost's test data accuracy: {test_accuracy_xgb}\")\n"
   ]
  },
  {
   "cell_type": "code",
   "execution_count": 74,
   "metadata": {
    "scrolled": false
   },
   "outputs": [
    {
     "name": "stdout",
     "output_type": "stream",
     "text": [
      "XGBoost's test F1 score: 0.4196446307213809\n"
     ]
    }
   ],
   "source": [
    "# F1 score\n",
    "f1_xgb = f1_score(y_test, y_test_pred_xgb, sample_weight=weights_test)\n",
    "print(f\"XGBoost's test F1 score: {f1_xgb}\")\n"
   ]
  },
  {
   "cell_type": "code",
   "execution_count": 75,
   "metadata": {},
   "outputs": [
    {
     "name": "stdout",
     "output_type": "stream",
     "text": [
      "XGBoost's precision: 0.3231950978081075\n",
      "XGBoost's recall: 0.5981465945477189\n"
     ]
    }
   ],
   "source": [
    "precision_score_xgb = precision_score(y_test, y_test_pred_xgb, sample_weight=weights_test)\n",
    "recall_score_xgb = recall_score(y_test, y_test_pred_xgb, sample_weight=weights_test)\n",
    "print(f\"XGBoost's precision: {precision_score_xgb}\")\n",
    "print(f\"XGBoost's recall: {recall_score_xgb}\")"
   ]
  },
  {
   "cell_type": "code",
   "execution_count": 76,
   "metadata": {
    "scrolled": false
   },
   "outputs": [
    {
     "data": {
      "text/plain": [
       "<AxesSubplot:>"
      ]
     },
     "execution_count": 76,
     "metadata": {},
     "output_type": "execute_result"
    },
    {
     "data": {
      "text/plain": [
       "[Text(0.5, 19.5, 'Predicted group'),\n",
       " Text(37.5, 0.5, 'Actual group'),\n",
       " Text(0.5, 1.0, 'Confusion matrix: XGB')]"
      ]
     },
     "execution_count": 76,
     "metadata": {},
     "output_type": "execute_result"
    },
    {
     "data": {
      "image/png": "[encoded data removed]",
      "text/plain": [
       "<Figure size 432x288 with 2 Axes>"
      ]
     },
     "metadata": {},
     "output_type": "display_data"
    }
   ],
   "source": [
    "# Confusion matrix\n",
    "cm_xgb = confusion_matrix(y_test, y_test_pred_xgb, sample_weight=weights_test)\n",
    "fig, ax = plt.subplots()\n",
    "\n",
    "sns.heatmap(cm_xgb,\n",
    "           annot=True,\n",
    "           fmt='.2f',\n",
    "           ax=ax)\n",
    "ax.set(xlabel='Predicted group',\n",
    "      ylabel='Actual group',\n",
    "      title='Confusion matrix: XGB')"
   ]
  },
  {
   "cell_type": "code",
   "execution_count": 77,
   "metadata": {
    "scrolled": false
   },
   "outputs": [
    {
     "data": {
      "text/plain": [
       "[<matplotlib.lines.Line2D at 0x12b2cdd90>]"
      ]
     },
     "execution_count": 77,
     "metadata": {},
     "output_type": "execute_result"
    },
    {
     "data": {
      "text/plain": [
       "[<matplotlib.lines.Line2D at 0x12b2c6810>]"
      ]
     },
     "execution_count": 77,
     "metadata": {},
     "output_type": "execute_result"
    },
    {
     "data": {
      "text/plain": [
       "[]"
      ]
     },
     "execution_count": 77,
     "metadata": {},
     "output_type": "execute_result"
    },
    {
     "data": {
      "text/plain": [
       "[Text(0.5, 0, 'Recall'),\n",
       " Text(0, 0.5, 'Precision'),\n",
       " Text(0.5, 1.0, 'Precision Recall Curve for XGB')]"
      ]
     },
     "execution_count": 77,
     "metadata": {},
     "output_type": "execute_result"
    },
    {
     "data": {
      "image/png": "[encoded data removed]",
      "text/plain": [
       "<Figure size 432x288 with 1 Axes>"
      ]
     },
     "metadata": {},
     "output_type": "display_data"
    }
   ],
   "source": [
    "# PR curve\n",
    "precision_xgb, recall_xgb, threshold_pr_xgb =  precision_recall_curve(y_test, y_test_prob_xgb, sample_weight=weights_test)\n",
    "\n",
    "fig, ax = plt.subplots()\n",
    "ax.plot(recall_xgb, precision_xgb)\n",
    "ax.plot([0,1], [np.average(y_test, weights=weights_test), np.average(y_test, weights=weights_test)],\n",
    "       color='grey',\n",
    "       linestyle='dashed')\n",
    "ax.plot()\n",
    "ax.set(xlabel='Recall',\n",
    "      ylabel='Precision',\n",
    "      title='Precision Recall Curve for XGB')"
   ]
  },
  {
   "cell_type": "code",
   "execution_count": 78,
   "metadata": {
    "scrolled": false
   },
   "outputs": [
    {
     "data": {
      "text/plain": [
       "[<matplotlib.lines.Line2D at 0x12b6b0490>]"
      ]
     },
     "execution_count": 78,
     "metadata": {},
     "output_type": "execute_result"
    },
    {
     "data": {
      "text/plain": [
       "[<matplotlib.lines.Line2D at 0x12b6b02d0>]"
      ]
     },
     "execution_count": 78,
     "metadata": {},
     "output_type": "execute_result"
    },
    {
     "data": {
      "text/plain": [
       "Text(0.75, 0.05, 'AUC score: 0.742')"
      ]
     },
     "execution_count": 78,
     "metadata": {},
     "output_type": "execute_result"
    },
    {
     "data": {
      "text/plain": [
       "[Text(0.5, 0, 'False positive rate'),\n",
       " Text(0, 0.5, 'True positive rate'),\n",
       " Text(0.5, 1.0, 'ROC curve for XGB')]"
      ]
     },
     "execution_count": 78,
     "metadata": {},
     "output_type": "execute_result"
    },
    {
     "data": {
      "image/png": "[encoded data removed]",
      "text/plain": [
       "<Figure size 432x288 with 1 Axes>"
      ]
     },
     "metadata": {},
     "output_type": "display_data"
    }
   ],
   "source": [
    "# ROC curve\n",
    "fpr_xgb, tpr_xgb, thresholds_XGB = roc_curve(y_test, y_test_prob_xgb, sample_weight=weights_test)\n",
    "roc_auc_xgb = roc_auc_score(y_test, y_test_prob_xgb, sample_weight=weights_test)\n",
    "\n",
    "fig, ax = plt.subplots()\n",
    "ax.plot(fpr_xgb, tpr_xgb)\n",
    "ax.plot([0, 1], [0,1], linestyle='dashed', color='grey')\n",
    "ax.text(0.75, 0.05, f'AUC score: {round(roc_auc_xgb, 3)}', transform=ax.transAxes)\n",
    "ax.set(xlabel='False positive rate',\n",
    "      ylabel='True positive rate',\n",
    "      title='ROC curve for XGB')"
   ]
  },
  {
   "cell_type": "code",
   "execution_count": null,
   "metadata": {
    "scrolled": true
   },
   "outputs": [],
   "source": []
  },
  {
   "cell_type": "code",
   "execution_count": null,
   "metadata": {
    "scrolled": true
   },
   "outputs": [],
   "source": []
  },
  {
   "cell_type": "markdown",
   "metadata": {},
   "source": [
    "# Comparison and Summary"
   ]
  },
  {
   "cell_type": "code",
   "execution_count": 79,
   "metadata": {
    "scrolled": false
   },
   "outputs": [
    {
     "data": {
      "text/plain": [
       "[<matplotlib.lines.Line2D at 0x12b58f4d0>]"
      ]
     },
     "execution_count": 79,
     "metadata": {},
     "output_type": "execute_result"
    },
    {
     "data": {
      "text/plain": [
       "[<matplotlib.lines.Line2D at 0x12b58f990>]"
      ]
     },
     "execution_count": 79,
     "metadata": {},
     "output_type": "execute_result"
    },
    {
     "data": {
      "text/plain": [
       "[<matplotlib.lines.Line2D at 0x12b58fc90>]"
      ]
     },
     "execution_count": 79,
     "metadata": {},
     "output_type": "execute_result"
    },
    {
     "data": {
      "text/plain": [
       "[<matplotlib.lines.Line2D at 0x12b58a9d0>]"
      ]
     },
     "execution_count": 79,
     "metadata": {},
     "output_type": "execute_result"
    },
    {
     "data": {
      "text/plain": [
       "[<matplotlib.lines.Line2D at 0x12b58aa10>]"
      ]
     },
     "execution_count": 79,
     "metadata": {},
     "output_type": "execute_result"
    },
    {
     "data": {
      "text/plain": [
       "<matplotlib.legend.Legend at 0x12b57b310>"
      ]
     },
     "execution_count": 79,
     "metadata": {},
     "output_type": "execute_result"
    },
    {
     "data": {
      "text/plain": [
       "[<matplotlib.lines.Line2D at 0x12b5eaf50>]"
      ]
     },
     "execution_count": 79,
     "metadata": {},
     "output_type": "execute_result"
    },
    {
     "data": {
      "text/plain": [
       "[Text(0.5, 0, 'False positive rate'),\n",
       " Text(0, 0.5, 'True positive rate'),\n",
       " Text(0.5, 1.0, 'ROC curve comparison')]"
      ]
     },
     "execution_count": 79,
     "metadata": {},
     "output_type": "execute_result"
    },
    {
     "data": {
      "image/png": "[encoded data removed]",
      "text/plain": [
       "<Figure size 432x288 with 1 Axes>"
      ]
     },
     "metadata": {},
     "output_type": "display_data"
    }
   ],
   "source": [
    "# Plotting all the ROC curves in the same model\n",
    "fig, ax = plt.subplots()\n",
    "list_fpr = [fpr_logit, fpr_logit_lasso, fpr_logit_ridge, fpr_rf, fpr_xgb]\n",
    "list_tpr = [tpr_logit, tpr_logit_lasso, tpr_logit_ridge, tpr_rf, tpr_xgb]\n",
    "list_model_names = ['Logistic regression', 'Logistic regression with lasso',\n",
    "                   'Logistic regression with ridge', 'Random Forest',\n",
    "                   'XGBoost']\n",
    "\n",
    "for a, b, lbl in zip(list_fpr, list_tpr, list_model_names):\n",
    "    ax.plot(a, b, label=lbl)\n",
    "ax.legend(loc='upper center', bbox_to_anchor=(0.5, -0.1), ncol=2)\n",
    "\n",
    "\n",
    "ax.plot([0, 1], [0,1], linestyle='dashed', color='grey')\n",
    "# ax.text(0.75, 0.05, f'AUC score: {round(roc_auc_xgb, 3)}', transform=ax.transAxes)\n",
    "ax.set(xlabel='False positive rate',\n",
    "      ylabel='True positive rate',\n",
    "      title='ROC curve comparison')"
   ]
  },
  {
   "cell_type": "code",
   "execution_count": 80,
   "metadata": {},
   "outputs": [
    {
     "data": {
      "text/html": [
       "<div>\n",
       "<style scoped>\n",
       "    .dataframe tbody tr th:only-of-type {\n",
       "        vertical-align: middle;\n",
       "    }\n",
       "\n",
       "    .dataframe tbody tr th {\n",
       "        vertical-align: top;\n",
       "    }\n",
       "\n",
       "    .dataframe thead th {\n",
       "        text-align: right;\n",
       "    }\n",
       "</style>\n",
       "<table border=\"1\" class=\"dataframe\">\n",
       "  <thead>\n",
       "    <tr style=\"text-align: right;\">\n",
       "      <th></th>\n",
       "      <th>model</th>\n",
       "      <th>f1_score</th>\n",
       "      <th>precision</th>\n",
       "      <th>recall</th>\n",
       "      <th>test_accuracy</th>\n",
       "    </tr>\n",
       "  </thead>\n",
       "  <tbody>\n",
       "    <tr>\n",
       "      <th>4</th>\n",
       "      <td>XGBoost</td>\n",
       "      <td>0.419645</td>\n",
       "      <td>0.323195</td>\n",
       "      <td>0.598147</td>\n",
       "      <td>0.742392</td>\n",
       "    </tr>\n",
       "    <tr>\n",
       "      <th>2</th>\n",
       "      <td>Logistic regression with ridge</td>\n",
       "      <td>0.399840</td>\n",
       "      <td>0.311779</td>\n",
       "      <td>0.557228</td>\n",
       "      <td>0.739533</td>\n",
       "    </tr>\n",
       "    <tr>\n",
       "      <th>1</th>\n",
       "      <td>Logistic regression with lasso</td>\n",
       "      <td>0.394681</td>\n",
       "      <td>0.310182</td>\n",
       "      <td>0.542455</td>\n",
       "      <td>0.740916</td>\n",
       "    </tr>\n",
       "    <tr>\n",
       "      <th>3</th>\n",
       "      <td>Random Forest</td>\n",
       "      <td>0.361026</td>\n",
       "      <td>0.242306</td>\n",
       "      <td>0.707840</td>\n",
       "      <td>0.609862</td>\n",
       "    </tr>\n",
       "    <tr>\n",
       "      <th>0</th>\n",
       "      <td>Logistic regression</td>\n",
       "      <td>0.180520</td>\n",
       "      <td>0.755589</td>\n",
       "      <td>0.102505</td>\n",
       "      <td>0.855091</td>\n",
       "    </tr>\n",
       "  </tbody>\n",
       "</table>\n",
       "</div>"
      ],
      "text/plain": [
       "                            model  f1_score  precision    recall  \\\n",
       "4                         XGBoost  0.419645   0.323195  0.598147   \n",
       "2  Logistic regression with ridge  0.399840   0.311779  0.557228   \n",
       "1  Logistic regression with lasso  0.394681   0.310182  0.542455   \n",
       "3                   Random Forest  0.361026   0.242306  0.707840   \n",
       "0             Logistic regression  0.180520   0.755589  0.102505   \n",
       "\n",
       "   test_accuracy  \n",
       "4       0.742392  \n",
       "2       0.739533  \n",
       "1       0.740916  \n",
       "3       0.609862  \n",
       "0       0.855091  "
      ]
     },
     "execution_count": 80,
     "metadata": {},
     "output_type": "execute_result"
    }
   ],
   "source": [
    "# Putting all the F1 score, precision and recall in one data frame\n",
    "pd.DataFrame(\n",
    "    {\n",
    "        'model': ['Logistic regression', 'Logistic regression with lasso', 'Logistic regression with ridge',\n",
    "                 'Random Forest', 'XGBoost'],\n",
    "        'f1_score': [f1_logit, f1_lasso, f1_ridge, f1_rf, f1_xgb],\n",
    "        'precision': [precision_score_logit, precision_score_lasso, precision_score_ridge, precision_score_rf, precision_score_xgb],\n",
    "        'recall': [recall_score_logit, recall_score_lasso, recall_score_ridge, recall_score_rf, recall_score_xgb],\n",
    "        'test_accuracy': [test_accuracy_logit, test_accuracy_lasso, test_accuracy_ridge,\n",
    "                         test_accuracy_rf, test_accuracy_xgb]\n",
    "        \n",
    "    }\n",
    ").sort_values('f1_score', ascending=False)"
   ]
  },
  {
   "cell_type": "code",
   "execution_count": null,
   "metadata": {},
   "outputs": [],
   "source": []
  },
  {
   "cell_type": "code",
   "execution_count": null,
   "metadata": {},
   "outputs": [],
   "source": []
  }
 ],
 "metadata": {
  "kernelspec": {
   "display_name": "Python 3",
   "language": "python",
   "name": "python3"
  },
  "language_info": {
   "codemirror_mode": {
    "name": "ipython",
    "version": 3
   },
   "file_extension": ".py",
   "mimetype": "text/x-python",
   "name": "python",
   "nbconvert_exporter": "python",
   "pygments_lexer": "ipython3",
   "version": "3.7.6"
  },
  "toc": {
   "base_numbering": 1,
   "nav_menu": {},
   "number_sections": false,
   "sideBar": true,
   "skip_h1_title": false,
   "title_cell": "Table of Contents",
   "title_sidebar": "Contents",
   "toc_cell": true,
   "toc_position": {
    "height": "1170.8px",
    "left": "37px",
    "top": "269px",
    "width": "281.6px"
   },
   "toc_section_display": true,
   "toc_window_display": true
  }
 },
 "nbformat": 4,
 "nbformat_minor": 4
}
